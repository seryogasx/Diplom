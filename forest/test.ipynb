{
 "cells": [
  {
   "cell_type": "markdown",
   "metadata": {},
   "source": [
    "# Анализ картографических данных и прогнозирование доминирующего вида лесного покрова"
   ]
  },
  {
   "cell_type": "markdown",
   "metadata": {},
   "source": [
    "Получаем набор данных c https://www.kaggle.com/uciml/forest-cover-type-dataset, содержащий информацию о лесном покрове в четырех областях Roosevelt National Forest in Colorado (национальный лес, расположенный с северной части штата Колорадо, США)"
   ]
  },
  {
   "cell_type": "markdown",
   "metadata": {},
   "source": [
    "Местность поделена на квадраты размером 30x30 метров и каждый характеризуется следующими параметрами:\n",
    "\n",
    "    Elevation = Высота над уровнем моря (целое число)\n",
    "\n",
    "    Aspect = Аспект в градусах по азимуту (целое число)\n",
    "\n",
    "    Slope = Уклон в градусах (целое число)\n",
    "\n",
    "    Horizontal_Distance_To_Hydrology = Горизонтальное расстояние до ближайших водных объектов (целое число)\n",
    "\n",
    "    Vertical_Distance_To_Hydrology = Вертикальное расстояние до ближайших водных объектов (целое число)\n",
    "\n",
    "    Horizontal_Distance_To_Roadways = Горизонтальное расстояние до ближайшей проезжей части (целое число).\n",
    "\n",
    "    Hillshade_9am = Индекс тени холма в 9 часов утра, в день летнего солнцестояния (целое число 0..255)\n",
    "\n",
    "    Hillshade_Noon = Индекс тени холма в полдень, в день летнего солнцестояния (целое число 0..255)\n",
    "\n",
    "    Hillshade_3pm = Индекс тени холма в 3 часа дня, в день летнего солнцестояния (целое число 0..255)\n",
    "\n",
    "    Horizontal_Distance_To_Fire_Point = Расстояние по горизонтали до ближайших точек возгорания пожаров (целое число)\n",
    "\n",
    "    Wilderness_Area1 = Принадлежность Rawah Wilderness Area (целое число: 1 - принадлежит, 0 - нет)\n",
    "\n",
    "    Wilderness_Area2 = Принадлежность Neota Wilderness Area (целое число: 1 - принадлежит, 0 - нет)\n",
    "\n",
    "    Wilderness_Area3 = Принадлежность Comanche Peak Wilderness Area (целое число: 1 - принадлежит, 0 - нет)\n",
    "\n",
    "    Wilderness_Area4 = Принадлежность Cache la Poudre Wilderness Area (целое число: 1 - принадлежит, 0 - нет)\n",
    "\n",
    "    Soil_Type1, Soil_Type2, ... , Soil_Type40 = тип почвы на квадрате (целое число: 1 - принадлежит, 0 - нет)"
   ]
  },
  {
   "cell_type": "markdown",
   "metadata": {},
   "source": [
    "Последний параметр квадрата - Cover_Type, характеризующий доминирующий вид лесного покрова на квадрате. Задается целым числом от 1 до 7:\n",
    "    \n",
    "    1) Пихтовый лес\n",
    "    2) Сосна скрученная\n",
    "    3) Сосна жёлтая\n",
    "    4) Тополь/Ива\n",
    "    5) Осина\n",
    "    6) Дугласова пихта\n",
    "    7) Криволесье"
   ]
  },
  {
   "cell_type": "markdown",
   "metadata": {},
   "source": [
    "Всего признаков - 55"
   ]
  },
  {
   "cell_type": "markdown",
   "metadata": {},
   "source": [
    "## Ход решения"
   ]
  },
  {
   "cell_type": "markdown",
   "metadata": {},
   "source": [
    "Импортируем необходимые модули"
   ]
  },
  {
   "cell_type": "code",
   "execution_count": 17,
   "metadata": {},
   "outputs": [],
   "source": [
    "import pandas as pd\n",
    "import numpy as np\n",
    "import time\n",
    "from math import fabs\n",
    "import matplotlib.pyplot as pyplot\n",
    "from sklearn.model_selection import train_test_split\n",
    "from sklearn.metrics import accuracy_score"
   ]
  },
  {
   "cell_type": "markdown",
   "metadata": {},
   "source": [
    "Импортируем данные с локального хранилища"
   ]
  },
  {
   "cell_type": "code",
   "execution_count": 18,
   "metadata": {},
   "outputs": [
    {
     "name": "stdout",
     "output_type": "stream",
     "text": [
      "Количество признаков: 55\n",
      "Количество объектов: 581012\n"
     ]
    }
   ],
   "source": [
    "data = pd.read_csv('covtype.csv')\n",
    "print('Количество признаков:', len(data.columns))\n",
    "print('Количество объектов:', len(data))"
   ]
  },
  {
   "cell_type": "markdown",
   "metadata": {},
   "source": [
    "Проверим содержание и сгенерируем описательную статистику полученных данных:"
   ]
  },
  {
   "cell_type": "code",
   "execution_count": 19,
   "metadata": {},
   "outputs": [
    {
     "name": "stdout",
     "output_type": "stream",
     "text": [
      "<class 'pandas.core.frame.DataFrame'>\n",
      "RangeIndex: 581012 entries, 0 to 581011\n",
      "Data columns (total 55 columns):\n",
      " #   Column                              Non-Null Count   Dtype\n",
      "---  ------                              --------------   -----\n",
      " 0   Elevation                           581012 non-null  int64\n",
      " 1   Aspect                              581012 non-null  int64\n",
      " 2   Slope                               581012 non-null  int64\n",
      " 3   Horizontal_Distance_To_Hydrology    581012 non-null  int64\n",
      " 4   Vertical_Distance_To_Hydrology      581012 non-null  int64\n",
      " 5   Horizontal_Distance_To_Roadways     581012 non-null  int64\n",
      " 6   Hillshade_9am                       581012 non-null  int64\n",
      " 7   Hillshade_Noon                      581012 non-null  int64\n",
      " 8   Hillshade_3pm                       581012 non-null  int64\n",
      " 9   Horizontal_Distance_To_Fire_Points  581012 non-null  int64\n",
      " 10  Wilderness_Area1                    581012 non-null  int64\n",
      " 11  Wilderness_Area2                    581012 non-null  int64\n",
      " 12  Wilderness_Area3                    581012 non-null  int64\n",
      " 13  Wilderness_Area4                    581012 non-null  int64\n",
      " 14  Soil_Type1                          581012 non-null  int64\n",
      " 15  Soil_Type2                          581012 non-null  int64\n",
      " 16  Soil_Type3                          581012 non-null  int64\n",
      " 17  Soil_Type4                          581012 non-null  int64\n",
      " 18  Soil_Type5                          581012 non-null  int64\n",
      " 19  Soil_Type6                          581012 non-null  int64\n",
      " 20  Soil_Type7                          581012 non-null  int64\n",
      " 21  Soil_Type8                          581012 non-null  int64\n",
      " 22  Soil_Type9                          581012 non-null  int64\n",
      " 23  Soil_Type10                         581012 non-null  int64\n",
      " 24  Soil_Type11                         581012 non-null  int64\n",
      " 25  Soil_Type12                         581012 non-null  int64\n",
      " 26  Soil_Type13                         581012 non-null  int64\n",
      " 27  Soil_Type14                         581012 non-null  int64\n",
      " 28  Soil_Type15                         581012 non-null  int64\n",
      " 29  Soil_Type16                         581012 non-null  int64\n",
      " 30  Soil_Type17                         581012 non-null  int64\n",
      " 31  Soil_Type18                         581012 non-null  int64\n",
      " 32  Soil_Type19                         581012 non-null  int64\n",
      " 33  Soil_Type20                         581012 non-null  int64\n",
      " 34  Soil_Type21                         581012 non-null  int64\n",
      " 35  Soil_Type22                         581012 non-null  int64\n",
      " 36  Soil_Type23                         581012 non-null  int64\n",
      " 37  Soil_Type24                         581012 non-null  int64\n",
      " 38  Soil_Type25                         581012 non-null  int64\n",
      " 39  Soil_Type26                         581012 non-null  int64\n",
      " 40  Soil_Type27                         581012 non-null  int64\n",
      " 41  Soil_Type28                         581012 non-null  int64\n",
      " 42  Soil_Type29                         581012 non-null  int64\n",
      " 43  Soil_Type30                         581012 non-null  int64\n",
      " 44  Soil_Type31                         581012 non-null  int64\n",
      " 45  Soil_Type32                         581012 non-null  int64\n",
      " 46  Soil_Type33                         581012 non-null  int64\n",
      " 47  Soil_Type34                         581012 non-null  int64\n",
      " 48  Soil_Type35                         581012 non-null  int64\n",
      " 49  Soil_Type36                         581012 non-null  int64\n",
      " 50  Soil_Type37                         581012 non-null  int64\n",
      " 51  Soil_Type38                         581012 non-null  int64\n",
      " 52  Soil_Type39                         581012 non-null  int64\n",
      " 53  Soil_Type40                         581012 non-null  int64\n",
      " 54  Cover_Type                          581012 non-null  int64\n",
      "dtypes: int64(55)\n",
      "memory usage: 243.8 MB\n"
     ]
    }
   ],
   "source": [
    "data.info()"
   ]
  },
  {
   "cell_type": "code",
   "execution_count": 20,
   "metadata": {},
   "outputs": [
    {
     "data": {
      "text/html": [
       "<div>\n",
       "<style scoped>\n",
       "    .dataframe tbody tr th:only-of-type {\n",
       "        vertical-align: middle;\n",
       "    }\n",
       "\n",
       "    .dataframe tbody tr th {\n",
       "        vertical-align: top;\n",
       "    }\n",
       "\n",
       "    .dataframe thead th {\n",
       "        text-align: right;\n",
       "    }\n",
       "</style>\n",
       "<table border=\"1\" class=\"dataframe\">\n",
       "  <thead>\n",
       "    <tr style=\"text-align: right;\">\n",
       "      <th></th>\n",
       "      <th>Elevation</th>\n",
       "      <th>Aspect</th>\n",
       "      <th>Slope</th>\n",
       "      <th>Horizontal_Distance_To_Hydrology</th>\n",
       "      <th>Vertical_Distance_To_Hydrology</th>\n",
       "      <th>Horizontal_Distance_To_Roadways</th>\n",
       "      <th>Hillshade_9am</th>\n",
       "      <th>Hillshade_Noon</th>\n",
       "      <th>Hillshade_3pm</th>\n",
       "      <th>Horizontal_Distance_To_Fire_Points</th>\n",
       "      <th>...</th>\n",
       "      <th>Soil_Type32</th>\n",
       "      <th>Soil_Type33</th>\n",
       "      <th>Soil_Type34</th>\n",
       "      <th>Soil_Type35</th>\n",
       "      <th>Soil_Type36</th>\n",
       "      <th>Soil_Type37</th>\n",
       "      <th>Soil_Type38</th>\n",
       "      <th>Soil_Type39</th>\n",
       "      <th>Soil_Type40</th>\n",
       "      <th>Cover_Type</th>\n",
       "    </tr>\n",
       "  </thead>\n",
       "  <tbody>\n",
       "    <tr>\n",
       "      <th>count</th>\n",
       "      <td>581012.000000</td>\n",
       "      <td>581012.000000</td>\n",
       "      <td>581012.000000</td>\n",
       "      <td>581012.000000</td>\n",
       "      <td>581012.000000</td>\n",
       "      <td>581012.000000</td>\n",
       "      <td>581012.000000</td>\n",
       "      <td>581012.000000</td>\n",
       "      <td>581012.000000</td>\n",
       "      <td>581012.000000</td>\n",
       "      <td>...</td>\n",
       "      <td>581012.000000</td>\n",
       "      <td>581012.000000</td>\n",
       "      <td>581012.000000</td>\n",
       "      <td>581012.000000</td>\n",
       "      <td>581012.000000</td>\n",
       "      <td>581012.000000</td>\n",
       "      <td>581012.000000</td>\n",
       "      <td>581012.000000</td>\n",
       "      <td>581012.000000</td>\n",
       "      <td>581012.000000</td>\n",
       "    </tr>\n",
       "    <tr>\n",
       "      <th>mean</th>\n",
       "      <td>2959.365301</td>\n",
       "      <td>155.656807</td>\n",
       "      <td>14.103704</td>\n",
       "      <td>269.428217</td>\n",
       "      <td>46.418855</td>\n",
       "      <td>2350.146611</td>\n",
       "      <td>212.146049</td>\n",
       "      <td>223.318716</td>\n",
       "      <td>142.528263</td>\n",
       "      <td>1980.291226</td>\n",
       "      <td>...</td>\n",
       "      <td>0.090392</td>\n",
       "      <td>0.077716</td>\n",
       "      <td>0.002773</td>\n",
       "      <td>0.003255</td>\n",
       "      <td>0.000205</td>\n",
       "      <td>0.000513</td>\n",
       "      <td>0.026803</td>\n",
       "      <td>0.023762</td>\n",
       "      <td>0.015060</td>\n",
       "      <td>2.051471</td>\n",
       "    </tr>\n",
       "    <tr>\n",
       "      <th>std</th>\n",
       "      <td>279.984734</td>\n",
       "      <td>111.913721</td>\n",
       "      <td>7.488242</td>\n",
       "      <td>212.549356</td>\n",
       "      <td>58.295232</td>\n",
       "      <td>1559.254870</td>\n",
       "      <td>26.769889</td>\n",
       "      <td>19.768697</td>\n",
       "      <td>38.274529</td>\n",
       "      <td>1324.195210</td>\n",
       "      <td>...</td>\n",
       "      <td>0.286743</td>\n",
       "      <td>0.267725</td>\n",
       "      <td>0.052584</td>\n",
       "      <td>0.056957</td>\n",
       "      <td>0.014310</td>\n",
       "      <td>0.022641</td>\n",
       "      <td>0.161508</td>\n",
       "      <td>0.152307</td>\n",
       "      <td>0.121791</td>\n",
       "      <td>1.396504</td>\n",
       "    </tr>\n",
       "    <tr>\n",
       "      <th>min</th>\n",
       "      <td>1859.000000</td>\n",
       "      <td>0.000000</td>\n",
       "      <td>0.000000</td>\n",
       "      <td>0.000000</td>\n",
       "      <td>-173.000000</td>\n",
       "      <td>0.000000</td>\n",
       "      <td>0.000000</td>\n",
       "      <td>0.000000</td>\n",
       "      <td>0.000000</td>\n",
       "      <td>0.000000</td>\n",
       "      <td>...</td>\n",
       "      <td>0.000000</td>\n",
       "      <td>0.000000</td>\n",
       "      <td>0.000000</td>\n",
       "      <td>0.000000</td>\n",
       "      <td>0.000000</td>\n",
       "      <td>0.000000</td>\n",
       "      <td>0.000000</td>\n",
       "      <td>0.000000</td>\n",
       "      <td>0.000000</td>\n",
       "      <td>1.000000</td>\n",
       "    </tr>\n",
       "    <tr>\n",
       "      <th>25%</th>\n",
       "      <td>2809.000000</td>\n",
       "      <td>58.000000</td>\n",
       "      <td>9.000000</td>\n",
       "      <td>108.000000</td>\n",
       "      <td>7.000000</td>\n",
       "      <td>1106.000000</td>\n",
       "      <td>198.000000</td>\n",
       "      <td>213.000000</td>\n",
       "      <td>119.000000</td>\n",
       "      <td>1024.000000</td>\n",
       "      <td>...</td>\n",
       "      <td>0.000000</td>\n",
       "      <td>0.000000</td>\n",
       "      <td>0.000000</td>\n",
       "      <td>0.000000</td>\n",
       "      <td>0.000000</td>\n",
       "      <td>0.000000</td>\n",
       "      <td>0.000000</td>\n",
       "      <td>0.000000</td>\n",
       "      <td>0.000000</td>\n",
       "      <td>1.000000</td>\n",
       "    </tr>\n",
       "    <tr>\n",
       "      <th>50%</th>\n",
       "      <td>2996.000000</td>\n",
       "      <td>127.000000</td>\n",
       "      <td>13.000000</td>\n",
       "      <td>218.000000</td>\n",
       "      <td>30.000000</td>\n",
       "      <td>1997.000000</td>\n",
       "      <td>218.000000</td>\n",
       "      <td>226.000000</td>\n",
       "      <td>143.000000</td>\n",
       "      <td>1710.000000</td>\n",
       "      <td>...</td>\n",
       "      <td>0.000000</td>\n",
       "      <td>0.000000</td>\n",
       "      <td>0.000000</td>\n",
       "      <td>0.000000</td>\n",
       "      <td>0.000000</td>\n",
       "      <td>0.000000</td>\n",
       "      <td>0.000000</td>\n",
       "      <td>0.000000</td>\n",
       "      <td>0.000000</td>\n",
       "      <td>2.000000</td>\n",
       "    </tr>\n",
       "    <tr>\n",
       "      <th>75%</th>\n",
       "      <td>3163.000000</td>\n",
       "      <td>260.000000</td>\n",
       "      <td>18.000000</td>\n",
       "      <td>384.000000</td>\n",
       "      <td>69.000000</td>\n",
       "      <td>3328.000000</td>\n",
       "      <td>231.000000</td>\n",
       "      <td>237.000000</td>\n",
       "      <td>168.000000</td>\n",
       "      <td>2550.000000</td>\n",
       "      <td>...</td>\n",
       "      <td>0.000000</td>\n",
       "      <td>0.000000</td>\n",
       "      <td>0.000000</td>\n",
       "      <td>0.000000</td>\n",
       "      <td>0.000000</td>\n",
       "      <td>0.000000</td>\n",
       "      <td>0.000000</td>\n",
       "      <td>0.000000</td>\n",
       "      <td>0.000000</td>\n",
       "      <td>2.000000</td>\n",
       "    </tr>\n",
       "    <tr>\n",
       "      <th>max</th>\n",
       "      <td>3858.000000</td>\n",
       "      <td>360.000000</td>\n",
       "      <td>66.000000</td>\n",
       "      <td>1397.000000</td>\n",
       "      <td>601.000000</td>\n",
       "      <td>7117.000000</td>\n",
       "      <td>254.000000</td>\n",
       "      <td>254.000000</td>\n",
       "      <td>254.000000</td>\n",
       "      <td>7173.000000</td>\n",
       "      <td>...</td>\n",
       "      <td>1.000000</td>\n",
       "      <td>1.000000</td>\n",
       "      <td>1.000000</td>\n",
       "      <td>1.000000</td>\n",
       "      <td>1.000000</td>\n",
       "      <td>1.000000</td>\n",
       "      <td>1.000000</td>\n",
       "      <td>1.000000</td>\n",
       "      <td>1.000000</td>\n",
       "      <td>7.000000</td>\n",
       "    </tr>\n",
       "  </tbody>\n",
       "</table>\n",
       "<p>8 rows × 55 columns</p>\n",
       "</div>"
      ],
      "text/plain": [
       "           Elevation         Aspect          Slope  \\\n",
       "count  581012.000000  581012.000000  581012.000000   \n",
       "mean     2959.365301     155.656807      14.103704   \n",
       "std       279.984734     111.913721       7.488242   \n",
       "min      1859.000000       0.000000       0.000000   \n",
       "25%      2809.000000      58.000000       9.000000   \n",
       "50%      2996.000000     127.000000      13.000000   \n",
       "75%      3163.000000     260.000000      18.000000   \n",
       "max      3858.000000     360.000000      66.000000   \n",
       "\n",
       "       Horizontal_Distance_To_Hydrology  Vertical_Distance_To_Hydrology  \\\n",
       "count                     581012.000000                   581012.000000   \n",
       "mean                         269.428217                       46.418855   \n",
       "std                          212.549356                       58.295232   \n",
       "min                            0.000000                     -173.000000   \n",
       "25%                          108.000000                        7.000000   \n",
       "50%                          218.000000                       30.000000   \n",
       "75%                          384.000000                       69.000000   \n",
       "max                         1397.000000                      601.000000   \n",
       "\n",
       "       Horizontal_Distance_To_Roadways  Hillshade_9am  Hillshade_Noon  \\\n",
       "count                    581012.000000  581012.000000   581012.000000   \n",
       "mean                       2350.146611     212.146049      223.318716   \n",
       "std                        1559.254870      26.769889       19.768697   \n",
       "min                           0.000000       0.000000        0.000000   \n",
       "25%                        1106.000000     198.000000      213.000000   \n",
       "50%                        1997.000000     218.000000      226.000000   \n",
       "75%                        3328.000000     231.000000      237.000000   \n",
       "max                        7117.000000     254.000000      254.000000   \n",
       "\n",
       "       Hillshade_3pm  Horizontal_Distance_To_Fire_Points  ...    Soil_Type32  \\\n",
       "count  581012.000000                       581012.000000  ...  581012.000000   \n",
       "mean      142.528263                         1980.291226  ...       0.090392   \n",
       "std        38.274529                         1324.195210  ...       0.286743   \n",
       "min         0.000000                            0.000000  ...       0.000000   \n",
       "25%       119.000000                         1024.000000  ...       0.000000   \n",
       "50%       143.000000                         1710.000000  ...       0.000000   \n",
       "75%       168.000000                         2550.000000  ...       0.000000   \n",
       "max       254.000000                         7173.000000  ...       1.000000   \n",
       "\n",
       "         Soil_Type33    Soil_Type34    Soil_Type35    Soil_Type36  \\\n",
       "count  581012.000000  581012.000000  581012.000000  581012.000000   \n",
       "mean        0.077716       0.002773       0.003255       0.000205   \n",
       "std         0.267725       0.052584       0.056957       0.014310   \n",
       "min         0.000000       0.000000       0.000000       0.000000   \n",
       "25%         0.000000       0.000000       0.000000       0.000000   \n",
       "50%         0.000000       0.000000       0.000000       0.000000   \n",
       "75%         0.000000       0.000000       0.000000       0.000000   \n",
       "max         1.000000       1.000000       1.000000       1.000000   \n",
       "\n",
       "         Soil_Type37    Soil_Type38    Soil_Type39    Soil_Type40  \\\n",
       "count  581012.000000  581012.000000  581012.000000  581012.000000   \n",
       "mean        0.000513       0.026803       0.023762       0.015060   \n",
       "std         0.022641       0.161508       0.152307       0.121791   \n",
       "min         0.000000       0.000000       0.000000       0.000000   \n",
       "25%         0.000000       0.000000       0.000000       0.000000   \n",
       "50%         0.000000       0.000000       0.000000       0.000000   \n",
       "75%         0.000000       0.000000       0.000000       0.000000   \n",
       "max         1.000000       1.000000       1.000000       1.000000   \n",
       "\n",
       "          Cover_Type  \n",
       "count  581012.000000  \n",
       "mean        2.051471  \n",
       "std         1.396504  \n",
       "min         1.000000  \n",
       "25%         1.000000  \n",
       "50%         2.000000  \n",
       "75%         2.000000  \n",
       "max         7.000000  \n",
       "\n",
       "[8 rows x 55 columns]"
      ]
     },
     "execution_count": 20,
     "metadata": {},
     "output_type": "execute_result"
    }
   ],
   "source": [
    "data.describe()"
   ]
  },
  {
   "cell_type": "markdown",
   "metadata": {},
   "source": [
    "Выводы:\n",
    "   \n",
    "    1) Пропусков в данных не выявлено\n",
    "\n",
    "    2) Данные не нормализованы, что может стать помехой для некоторых алгоритмов"
   ]
  },
  {
   "cell_type": "code",
   "execution_count": 21,
   "metadata": {},
   "outputs": [],
   "source": [
    "# import seaborn as sb\n",
    "# import warnings\n",
    "# warnings.filterwarnings('ignore')\n",
    "# for index, col in enumerate(data.loc[:, :'Horizontal_Distance_To_Fire_Points']):\n",
    "#     pyplot.figure(index)\n",
    "#     sb.distplot(data[col])"
   ]
  },
  {
   "cell_type": "markdown",
   "metadata": {},
   "source": [
    "Для начала уменьшим размерность.\n",
    "Каждая запись в наборе данных имеет 40 столбцов для обозначения типа почвы. Более оптимальный вариант хранения - использовать один столбец, содержащий номер доминирующего вида почвы в виде дискретной целой величины, принимающей значения от 1 до 40:"
   ]
  },
  {
   "cell_type": "code",
   "execution_count": 22,
   "metadata": {},
   "outputs": [],
   "source": [
    "optimized_data = data.drop(data.loc[:, 'Soil_Type1' : 'Soil_Type40'], axis = 1)\n",
    "union_soil_data = pd.Series([0 for _ in range(len(data))])\n",
    "for index, col in enumerate(data.loc[:, 'Soil_Type1' : 'Soil_Type40']):\n",
    "    for item in np.where(data[col].values == 1):\n",
    "        union_soil_data[item] = index + 1\n",
    "optimized_data['Soil_Type'] = union_soil_data"
   ]
  },
  {
   "cell_type": "markdown",
   "metadata": {},
   "source": [
    "Таким же образом поступим с Wilderness_Area1, Wilderness_Area2, Wilderness_Area3 и Wilderness_Area4:"
   ]
  },
  {
   "cell_type": "code",
   "execution_count": 23,
   "metadata": {},
   "outputs": [],
   "source": [
    "optimized_data = optimized_data.drop(optimized_data.loc[:, 'Wilderness_Area1' : 'Wilderness_Area4'], axis = 1)\n",
    "union_wilderness_data = pd.Series([0 for _ in range(len(data))])\n",
    "for index, col in enumerate(data.loc[:, 'Wilderness_Area1' : 'Wilderness_Area4']):\n",
    "    for item in np.where(data[col].values == 1):\n",
    "        union_wilderness_data[item] = index + 1\n",
    "optimized_data['Wilderness'] = union_wilderness_data"
   ]
  },
  {
   "cell_type": "markdown",
   "metadata": {},
   "source": [
    "Расстоние до источников воды также лучше мерить одним значением:"
   ]
  },
  {
   "cell_type": "code",
   "execution_count": 24,
   "metadata": {},
   "outputs": [],
   "source": [
    "from math import sqrt\n",
    "optimized_data = optimized_data.drop(optimized_data.loc[:, 'Horizontal_Distance_To_Hydrology' : 'Vertical_Distance_To_Hydrology'], axis = 1)\n",
    "union_distance_data = pd.Series([0 for _ in range(len(data))])\n",
    "for index in range(len(data)):\n",
    "    horizontal = data['Horizontal_Distance_To_Hydrology'][index]\n",
    "    vertical = data['Vertical_Distance_To_Hydrology'][index]\n",
    "    union_distance_data[index] = sqrt(horizontal**2 + vertical**2)\n",
    "optimized_data['Distance_To_Hydrology'] = union_distance_data"
   ]
  },
  {
   "cell_type": "code",
   "execution_count": 25,
   "metadata": {},
   "outputs": [
    {
     "name": "stdout",
     "output_type": "stream",
     "text": [
      "<class 'pandas.core.frame.DataFrame'>\n",
      "RangeIndex: 581012 entries, 0 to 581011\n",
      "Data columns (total 12 columns):\n",
      " #   Column                              Non-Null Count   Dtype\n",
      "---  ------                              --------------   -----\n",
      " 0   Elevation                           581012 non-null  int64\n",
      " 1   Aspect                              581012 non-null  int64\n",
      " 2   Slope                               581012 non-null  int64\n",
      " 3   Horizontal_Distance_To_Roadways     581012 non-null  int64\n",
      " 4   Hillshade_9am                       581012 non-null  int64\n",
      " 5   Hillshade_Noon                      581012 non-null  int64\n",
      " 6   Hillshade_3pm                       581012 non-null  int64\n",
      " 7   Horizontal_Distance_To_Fire_Points  581012 non-null  int64\n",
      " 8   Cover_Type                          581012 non-null  int64\n",
      " 9   Soil_Type                           581012 non-null  int64\n",
      " 10  Wilderness                          581012 non-null  int64\n",
      " 11  Distance_To_Hydrology               581012 non-null  int64\n",
      "dtypes: int64(12)\n",
      "memory usage: 53.2 MB\n"
     ]
    }
   ],
   "source": [
    "optimized_data.info()"
   ]
  },
  {
   "cell_type": "code",
   "execution_count": 26,
   "metadata": {},
   "outputs": [
    {
     "data": {
      "text/html": [
       "<div>\n",
       "<style scoped>\n",
       "    .dataframe tbody tr th:only-of-type {\n",
       "        vertical-align: middle;\n",
       "    }\n",
       "\n",
       "    .dataframe tbody tr th {\n",
       "        vertical-align: top;\n",
       "    }\n",
       "\n",
       "    .dataframe thead th {\n",
       "        text-align: right;\n",
       "    }\n",
       "</style>\n",
       "<table border=\"1\" class=\"dataframe\">\n",
       "  <thead>\n",
       "    <tr style=\"text-align: right;\">\n",
       "      <th></th>\n",
       "      <th>Elevation</th>\n",
       "      <th>Aspect</th>\n",
       "      <th>Slope</th>\n",
       "      <th>Horizontal_Distance_To_Roadways</th>\n",
       "      <th>Hillshade_9am</th>\n",
       "      <th>Hillshade_Noon</th>\n",
       "      <th>Hillshade_3pm</th>\n",
       "      <th>Horizontal_Distance_To_Fire_Points</th>\n",
       "      <th>Cover_Type</th>\n",
       "      <th>Soil_Type</th>\n",
       "      <th>Wilderness</th>\n",
       "      <th>Distance_To_Hydrology</th>\n",
       "    </tr>\n",
       "  </thead>\n",
       "  <tbody>\n",
       "    <tr>\n",
       "      <th>count</th>\n",
       "      <td>581012.000000</td>\n",
       "      <td>581012.000000</td>\n",
       "      <td>581012.000000</td>\n",
       "      <td>581012.000000</td>\n",
       "      <td>581012.000000</td>\n",
       "      <td>581012.000000</td>\n",
       "      <td>581012.000000</td>\n",
       "      <td>581012.000000</td>\n",
       "      <td>581012.000000</td>\n",
       "      <td>581012.000000</td>\n",
       "      <td>581012.000000</td>\n",
       "      <td>581012.000000</td>\n",
       "    </tr>\n",
       "    <tr>\n",
       "      <th>mean</th>\n",
       "      <td>2959.365301</td>\n",
       "      <td>155.656807</td>\n",
       "      <td>14.103704</td>\n",
       "      <td>2350.146611</td>\n",
       "      <td>212.146049</td>\n",
       "      <td>223.318716</td>\n",
       "      <td>142.528263</td>\n",
       "      <td>1980.291226</td>\n",
       "      <td>2.051471</td>\n",
       "      <td>24.362443</td>\n",
       "      <td>2.114462</td>\n",
       "      <td>275.659184</td>\n",
       "    </tr>\n",
       "    <tr>\n",
       "      <th>std</th>\n",
       "      <td>279.984734</td>\n",
       "      <td>111.913721</td>\n",
       "      <td>7.488242</td>\n",
       "      <td>1559.254870</td>\n",
       "      <td>26.769889</td>\n",
       "      <td>19.768697</td>\n",
       "      <td>38.274529</td>\n",
       "      <td>1324.195210</td>\n",
       "      <td>1.396504</td>\n",
       "      <td>9.485405</td>\n",
       "      <td>1.061295</td>\n",
       "      <td>216.989552</td>\n",
       "    </tr>\n",
       "    <tr>\n",
       "      <th>min</th>\n",
       "      <td>1859.000000</td>\n",
       "      <td>0.000000</td>\n",
       "      <td>0.000000</td>\n",
       "      <td>0.000000</td>\n",
       "      <td>0.000000</td>\n",
       "      <td>0.000000</td>\n",
       "      <td>0.000000</td>\n",
       "      <td>0.000000</td>\n",
       "      <td>1.000000</td>\n",
       "      <td>1.000000</td>\n",
       "      <td>1.000000</td>\n",
       "      <td>0.000000</td>\n",
       "    </tr>\n",
       "    <tr>\n",
       "      <th>25%</th>\n",
       "      <td>2809.000000</td>\n",
       "      <td>58.000000</td>\n",
       "      <td>9.000000</td>\n",
       "      <td>1106.000000</td>\n",
       "      <td>198.000000</td>\n",
       "      <td>213.000000</td>\n",
       "      <td>119.000000</td>\n",
       "      <td>1024.000000</td>\n",
       "      <td>1.000000</td>\n",
       "      <td>20.000000</td>\n",
       "      <td>1.000000</td>\n",
       "      <td>108.000000</td>\n",
       "    </tr>\n",
       "    <tr>\n",
       "      <th>50%</th>\n",
       "      <td>2996.000000</td>\n",
       "      <td>127.000000</td>\n",
       "      <td>13.000000</td>\n",
       "      <td>1997.000000</td>\n",
       "      <td>218.000000</td>\n",
       "      <td>226.000000</td>\n",
       "      <td>143.000000</td>\n",
       "      <td>1710.000000</td>\n",
       "      <td>2.000000</td>\n",
       "      <td>29.000000</td>\n",
       "      <td>2.000000</td>\n",
       "      <td>229.000000</td>\n",
       "    </tr>\n",
       "    <tr>\n",
       "      <th>75%</th>\n",
       "      <td>3163.000000</td>\n",
       "      <td>260.000000</td>\n",
       "      <td>18.000000</td>\n",
       "      <td>3328.000000</td>\n",
       "      <td>231.000000</td>\n",
       "      <td>237.000000</td>\n",
       "      <td>168.000000</td>\n",
       "      <td>2550.000000</td>\n",
       "      <td>2.000000</td>\n",
       "      <td>31.000000</td>\n",
       "      <td>3.000000</td>\n",
       "      <td>393.000000</td>\n",
       "    </tr>\n",
       "    <tr>\n",
       "      <th>max</th>\n",
       "      <td>3858.000000</td>\n",
       "      <td>360.000000</td>\n",
       "      <td>66.000000</td>\n",
       "      <td>7117.000000</td>\n",
       "      <td>254.000000</td>\n",
       "      <td>254.000000</td>\n",
       "      <td>254.000000</td>\n",
       "      <td>7173.000000</td>\n",
       "      <td>7.000000</td>\n",
       "      <td>40.000000</td>\n",
       "      <td>4.000000</td>\n",
       "      <td>1418.000000</td>\n",
       "    </tr>\n",
       "  </tbody>\n",
       "</table>\n",
       "</div>"
      ],
      "text/plain": [
       "           Elevation         Aspect          Slope  \\\n",
       "count  581012.000000  581012.000000  581012.000000   \n",
       "mean     2959.365301     155.656807      14.103704   \n",
       "std       279.984734     111.913721       7.488242   \n",
       "min      1859.000000       0.000000       0.000000   \n",
       "25%      2809.000000      58.000000       9.000000   \n",
       "50%      2996.000000     127.000000      13.000000   \n",
       "75%      3163.000000     260.000000      18.000000   \n",
       "max      3858.000000     360.000000      66.000000   \n",
       "\n",
       "       Horizontal_Distance_To_Roadways  Hillshade_9am  Hillshade_Noon  \\\n",
       "count                    581012.000000  581012.000000   581012.000000   \n",
       "mean                       2350.146611     212.146049      223.318716   \n",
       "std                        1559.254870      26.769889       19.768697   \n",
       "min                           0.000000       0.000000        0.000000   \n",
       "25%                        1106.000000     198.000000      213.000000   \n",
       "50%                        1997.000000     218.000000      226.000000   \n",
       "75%                        3328.000000     231.000000      237.000000   \n",
       "max                        7117.000000     254.000000      254.000000   \n",
       "\n",
       "       Hillshade_3pm  Horizontal_Distance_To_Fire_Points     Cover_Type  \\\n",
       "count  581012.000000                       581012.000000  581012.000000   \n",
       "mean      142.528263                         1980.291226       2.051471   \n",
       "std        38.274529                         1324.195210       1.396504   \n",
       "min         0.000000                            0.000000       1.000000   \n",
       "25%       119.000000                         1024.000000       1.000000   \n",
       "50%       143.000000                         1710.000000       2.000000   \n",
       "75%       168.000000                         2550.000000       2.000000   \n",
       "max       254.000000                         7173.000000       7.000000   \n",
       "\n",
       "           Soil_Type     Wilderness  Distance_To_Hydrology  \n",
       "count  581012.000000  581012.000000          581012.000000  \n",
       "mean       24.362443       2.114462             275.659184  \n",
       "std         9.485405       1.061295             216.989552  \n",
       "min         1.000000       1.000000               0.000000  \n",
       "25%        20.000000       1.000000             108.000000  \n",
       "50%        29.000000       2.000000             229.000000  \n",
       "75%        31.000000       3.000000             393.000000  \n",
       "max        40.000000       4.000000            1418.000000  "
      ]
     },
     "execution_count": 26,
     "metadata": {},
     "output_type": "execute_result"
    }
   ],
   "source": [
    "optimized_data.describe()"
   ]
  },
  {
   "cell_type": "markdown",
   "metadata": {},
   "source": [
    "Таким образом удалось уменьшить размерность с 54 признаков до 11"
   ]
  },
  {
   "cell_type": "markdown",
   "metadata": {},
   "source": [
    "Осталось нормализовать данные"
   ]
  },
  {
   "cell_type": "code",
   "execution_count": 45,
   "metadata": {},
   "outputs": [],
   "source": [
    "from sklearn.preprocessing import MinMaxScaler\n",
    "mm_scaler = MinMaxScaler()\n",
    "optimized_normalized_data = optimized_data\n",
    "t = mm_scaler.fit_transform(optimized_data[['Elevation', 'Aspect', 'Slope', 'Distance_To_Hydrology', 'Horizontal_Distance_To_Roadways', 'Hillshade_9am', 'Hillshade_Noon', 'Hillshade_3pm', 'Horizontal_Distance_To_Fire_Points', 'Soil_Type', 'Wilderness']])\n",
    "optimized_normalized_data[['Elevation', 'Aspect', 'Slope', 'Distance_To_Hydrology', 'Horizontal_Distance_To_Roadways', 'Hillshade_9am', 'Hillshade_Noon', 'Hillshade_3pm', 'Horizontal_Distance_To_Fire_Points', 'Soil_Type', 'Wilderness']] = t"
   ]
  },
  {
   "cell_type": "code",
   "execution_count": 46,
   "metadata": {},
   "outputs": [
    {
     "data": {
      "text/html": [
       "<div>\n",
       "<style scoped>\n",
       "    .dataframe tbody tr th:only-of-type {\n",
       "        vertical-align: middle;\n",
       "    }\n",
       "\n",
       "    .dataframe tbody tr th {\n",
       "        vertical-align: top;\n",
       "    }\n",
       "\n",
       "    .dataframe thead th {\n",
       "        text-align: right;\n",
       "    }\n",
       "</style>\n",
       "<table border=\"1\" class=\"dataframe\">\n",
       "  <thead>\n",
       "    <tr style=\"text-align: right;\">\n",
       "      <th></th>\n",
       "      <th>Elevation</th>\n",
       "      <th>Aspect</th>\n",
       "      <th>Slope</th>\n",
       "      <th>Horizontal_Distance_To_Roadways</th>\n",
       "      <th>Hillshade_9am</th>\n",
       "      <th>Hillshade_Noon</th>\n",
       "      <th>Hillshade_3pm</th>\n",
       "      <th>Horizontal_Distance_To_Fire_Points</th>\n",
       "      <th>Cover_Type</th>\n",
       "      <th>Soil_Type</th>\n",
       "      <th>Wilderness</th>\n",
       "      <th>Distance_To_Hydrology</th>\n",
       "    </tr>\n",
       "  </thead>\n",
       "  <tbody>\n",
       "    <tr>\n",
       "      <th>count</th>\n",
       "      <td>581012.000000</td>\n",
       "      <td>581012.000000</td>\n",
       "      <td>581012.000000</td>\n",
       "      <td>581012.000000</td>\n",
       "      <td>581012.000000</td>\n",
       "      <td>581012.000000</td>\n",
       "      <td>581012.000000</td>\n",
       "      <td>581012.000000</td>\n",
       "      <td>581012.000000</td>\n",
       "      <td>581012.000000</td>\n",
       "      <td>581012.000000</td>\n",
       "      <td>581012.000000</td>\n",
       "    </tr>\n",
       "    <tr>\n",
       "      <th>mean</th>\n",
       "      <td>0.550458</td>\n",
       "      <td>0.432380</td>\n",
       "      <td>0.213692</td>\n",
       "      <td>0.330216</td>\n",
       "      <td>0.835221</td>\n",
       "      <td>0.879208</td>\n",
       "      <td>0.561135</td>\n",
       "      <td>0.276076</td>\n",
       "      <td>2.051471</td>\n",
       "      <td>0.599037</td>\n",
       "      <td>0.371487</td>\n",
       "      <td>0.194400</td>\n",
       "    </tr>\n",
       "    <tr>\n",
       "      <th>std</th>\n",
       "      <td>0.140062</td>\n",
       "      <td>0.310871</td>\n",
       "      <td>0.113458</td>\n",
       "      <td>0.219089</td>\n",
       "      <td>0.105393</td>\n",
       "      <td>0.077830</td>\n",
       "      <td>0.150687</td>\n",
       "      <td>0.184608</td>\n",
       "      <td>1.396504</td>\n",
       "      <td>0.243216</td>\n",
       "      <td>0.353765</td>\n",
       "      <td>0.153025</td>\n",
       "    </tr>\n",
       "    <tr>\n",
       "      <th>min</th>\n",
       "      <td>0.000000</td>\n",
       "      <td>0.000000</td>\n",
       "      <td>0.000000</td>\n",
       "      <td>0.000000</td>\n",
       "      <td>0.000000</td>\n",
       "      <td>0.000000</td>\n",
       "      <td>0.000000</td>\n",
       "      <td>0.000000</td>\n",
       "      <td>1.000000</td>\n",
       "      <td>0.000000</td>\n",
       "      <td>0.000000</td>\n",
       "      <td>0.000000</td>\n",
       "    </tr>\n",
       "    <tr>\n",
       "      <th>25%</th>\n",
       "      <td>0.475238</td>\n",
       "      <td>0.161111</td>\n",
       "      <td>0.136364</td>\n",
       "      <td>0.155403</td>\n",
       "      <td>0.779528</td>\n",
       "      <td>0.838583</td>\n",
       "      <td>0.468504</td>\n",
       "      <td>0.142758</td>\n",
       "      <td>1.000000</td>\n",
       "      <td>0.487179</td>\n",
       "      <td>0.000000</td>\n",
       "      <td>0.076164</td>\n",
       "    </tr>\n",
       "    <tr>\n",
       "      <th>50%</th>\n",
       "      <td>0.568784</td>\n",
       "      <td>0.352778</td>\n",
       "      <td>0.196970</td>\n",
       "      <td>0.280596</td>\n",
       "      <td>0.858268</td>\n",
       "      <td>0.889764</td>\n",
       "      <td>0.562992</td>\n",
       "      <td>0.238394</td>\n",
       "      <td>2.000000</td>\n",
       "      <td>0.717949</td>\n",
       "      <td>0.333333</td>\n",
       "      <td>0.161495</td>\n",
       "    </tr>\n",
       "    <tr>\n",
       "      <th>75%</th>\n",
       "      <td>0.652326</td>\n",
       "      <td>0.722222</td>\n",
       "      <td>0.272727</td>\n",
       "      <td>0.467613</td>\n",
       "      <td>0.909449</td>\n",
       "      <td>0.933071</td>\n",
       "      <td>0.661417</td>\n",
       "      <td>0.355500</td>\n",
       "      <td>2.000000</td>\n",
       "      <td>0.769231</td>\n",
       "      <td>0.666667</td>\n",
       "      <td>0.277151</td>\n",
       "    </tr>\n",
       "    <tr>\n",
       "      <th>max</th>\n",
       "      <td>1.000000</td>\n",
       "      <td>1.000000</td>\n",
       "      <td>1.000000</td>\n",
       "      <td>1.000000</td>\n",
       "      <td>1.000000</td>\n",
       "      <td>1.000000</td>\n",
       "      <td>1.000000</td>\n",
       "      <td>1.000000</td>\n",
       "      <td>7.000000</td>\n",
       "      <td>1.000000</td>\n",
       "      <td>1.000000</td>\n",
       "      <td>1.000000</td>\n",
       "    </tr>\n",
       "  </tbody>\n",
       "</table>\n",
       "</div>"
      ],
      "text/plain": [
       "           Elevation         Aspect          Slope  \\\n",
       "count  581012.000000  581012.000000  581012.000000   \n",
       "mean        0.550458       0.432380       0.213692   \n",
       "std         0.140062       0.310871       0.113458   \n",
       "min         0.000000       0.000000       0.000000   \n",
       "25%         0.475238       0.161111       0.136364   \n",
       "50%         0.568784       0.352778       0.196970   \n",
       "75%         0.652326       0.722222       0.272727   \n",
       "max         1.000000       1.000000       1.000000   \n",
       "\n",
       "       Horizontal_Distance_To_Roadways  Hillshade_9am  Hillshade_Noon  \\\n",
       "count                    581012.000000  581012.000000   581012.000000   \n",
       "mean                          0.330216       0.835221        0.879208   \n",
       "std                           0.219089       0.105393        0.077830   \n",
       "min                           0.000000       0.000000        0.000000   \n",
       "25%                           0.155403       0.779528        0.838583   \n",
       "50%                           0.280596       0.858268        0.889764   \n",
       "75%                           0.467613       0.909449        0.933071   \n",
       "max                           1.000000       1.000000        1.000000   \n",
       "\n",
       "       Hillshade_3pm  Horizontal_Distance_To_Fire_Points     Cover_Type  \\\n",
       "count  581012.000000                       581012.000000  581012.000000   \n",
       "mean        0.561135                            0.276076       2.051471   \n",
       "std         0.150687                            0.184608       1.396504   \n",
       "min         0.000000                            0.000000       1.000000   \n",
       "25%         0.468504                            0.142758       1.000000   \n",
       "50%         0.562992                            0.238394       2.000000   \n",
       "75%         0.661417                            0.355500       2.000000   \n",
       "max         1.000000                            1.000000       7.000000   \n",
       "\n",
       "           Soil_Type     Wilderness  Distance_To_Hydrology  \n",
       "count  581012.000000  581012.000000          581012.000000  \n",
       "mean        0.599037       0.371487               0.194400  \n",
       "std         0.243216       0.353765               0.153025  \n",
       "min         0.000000       0.000000               0.000000  \n",
       "25%         0.487179       0.000000               0.076164  \n",
       "50%         0.717949       0.333333               0.161495  \n",
       "75%         0.769231       0.666667               0.277151  \n",
       "max         1.000000       1.000000               1.000000  "
      ]
     },
     "execution_count": 46,
     "metadata": {},
     "output_type": "execute_result"
    }
   ],
   "source": [
    "optimized_normalized_data.describe()"
   ]
  },
  {
   "cell_type": "code",
   "execution_count": 47,
   "metadata": {},
   "outputs": [
    {
     "data": {
      "text/html": [
       "<div>\n",
       "<style scoped>\n",
       "    .dataframe tbody tr th:only-of-type {\n",
       "        vertical-align: middle;\n",
       "    }\n",
       "\n",
       "    .dataframe tbody tr th {\n",
       "        vertical-align: top;\n",
       "    }\n",
       "\n",
       "    .dataframe thead th {\n",
       "        text-align: right;\n",
       "    }\n",
       "</style>\n",
       "<table border=\"1\" class=\"dataframe\">\n",
       "  <thead>\n",
       "    <tr style=\"text-align: right;\">\n",
       "      <th></th>\n",
       "      <th>Elevation</th>\n",
       "      <th>Aspect</th>\n",
       "      <th>Slope</th>\n",
       "      <th>Distance_To_Hydrology</th>\n",
       "      <th>Horizontal_Distance_To_Roadways</th>\n",
       "      <th>Hillshade_9am</th>\n",
       "      <th>Hillshade_Noon</th>\n",
       "      <th>Hillshade_3pm</th>\n",
       "      <th>Horizontal_Distance_To_Fire_Points</th>\n",
       "      <th>Wilderness</th>\n",
       "      <th>Soil_Type</th>\n",
       "      <th>Cover_Type</th>\n",
       "    </tr>\n",
       "  </thead>\n",
       "  <tbody>\n",
       "    <tr>\n",
       "      <th>count</th>\n",
       "      <td>581012.000000</td>\n",
       "      <td>581012.000000</td>\n",
       "      <td>581012.000000</td>\n",
       "      <td>581012.000000</td>\n",
       "      <td>581012.000000</td>\n",
       "      <td>581012.000000</td>\n",
       "      <td>581012.000000</td>\n",
       "      <td>581012.000000</td>\n",
       "      <td>581012.000000</td>\n",
       "      <td>581012.000000</td>\n",
       "      <td>581012.000000</td>\n",
       "      <td>581012.000000</td>\n",
       "    </tr>\n",
       "    <tr>\n",
       "      <th>mean</th>\n",
       "      <td>0.550458</td>\n",
       "      <td>0.432380</td>\n",
       "      <td>0.213692</td>\n",
       "      <td>0.194400</td>\n",
       "      <td>0.330216</td>\n",
       "      <td>0.835221</td>\n",
       "      <td>0.879208</td>\n",
       "      <td>0.561135</td>\n",
       "      <td>0.276076</td>\n",
       "      <td>0.371487</td>\n",
       "      <td>0.599037</td>\n",
       "      <td>2.051471</td>\n",
       "    </tr>\n",
       "    <tr>\n",
       "      <th>std</th>\n",
       "      <td>0.140062</td>\n",
       "      <td>0.310871</td>\n",
       "      <td>0.113458</td>\n",
       "      <td>0.153025</td>\n",
       "      <td>0.219089</td>\n",
       "      <td>0.105393</td>\n",
       "      <td>0.077830</td>\n",
       "      <td>0.150687</td>\n",
       "      <td>0.184608</td>\n",
       "      <td>0.353765</td>\n",
       "      <td>0.243216</td>\n",
       "      <td>1.396504</td>\n",
       "    </tr>\n",
       "    <tr>\n",
       "      <th>min</th>\n",
       "      <td>0.000000</td>\n",
       "      <td>0.000000</td>\n",
       "      <td>0.000000</td>\n",
       "      <td>0.000000</td>\n",
       "      <td>0.000000</td>\n",
       "      <td>0.000000</td>\n",
       "      <td>0.000000</td>\n",
       "      <td>0.000000</td>\n",
       "      <td>0.000000</td>\n",
       "      <td>0.000000</td>\n",
       "      <td>0.000000</td>\n",
       "      <td>1.000000</td>\n",
       "    </tr>\n",
       "    <tr>\n",
       "      <th>25%</th>\n",
       "      <td>0.475238</td>\n",
       "      <td>0.161111</td>\n",
       "      <td>0.136364</td>\n",
       "      <td>0.076164</td>\n",
       "      <td>0.155403</td>\n",
       "      <td>0.779528</td>\n",
       "      <td>0.838583</td>\n",
       "      <td>0.468504</td>\n",
       "      <td>0.142758</td>\n",
       "      <td>0.000000</td>\n",
       "      <td>0.487179</td>\n",
       "      <td>1.000000</td>\n",
       "    </tr>\n",
       "    <tr>\n",
       "      <th>50%</th>\n",
       "      <td>0.568784</td>\n",
       "      <td>0.352778</td>\n",
       "      <td>0.196970</td>\n",
       "      <td>0.161495</td>\n",
       "      <td>0.280596</td>\n",
       "      <td>0.858268</td>\n",
       "      <td>0.889764</td>\n",
       "      <td>0.562992</td>\n",
       "      <td>0.238394</td>\n",
       "      <td>0.333333</td>\n",
       "      <td>0.717949</td>\n",
       "      <td>2.000000</td>\n",
       "    </tr>\n",
       "    <tr>\n",
       "      <th>75%</th>\n",
       "      <td>0.652326</td>\n",
       "      <td>0.722222</td>\n",
       "      <td>0.272727</td>\n",
       "      <td>0.277151</td>\n",
       "      <td>0.467613</td>\n",
       "      <td>0.909449</td>\n",
       "      <td>0.933071</td>\n",
       "      <td>0.661417</td>\n",
       "      <td>0.355500</td>\n",
       "      <td>0.666667</td>\n",
       "      <td>0.769231</td>\n",
       "      <td>2.000000</td>\n",
       "    </tr>\n",
       "    <tr>\n",
       "      <th>max</th>\n",
       "      <td>1.000000</td>\n",
       "      <td>1.000000</td>\n",
       "      <td>1.000000</td>\n",
       "      <td>1.000000</td>\n",
       "      <td>1.000000</td>\n",
       "      <td>1.000000</td>\n",
       "      <td>1.000000</td>\n",
       "      <td>1.000000</td>\n",
       "      <td>1.000000</td>\n",
       "      <td>1.000000</td>\n",
       "      <td>1.000000</td>\n",
       "      <td>7.000000</td>\n",
       "    </tr>\n",
       "  </tbody>\n",
       "</table>\n",
       "</div>"
      ],
      "text/plain": [
       "           Elevation         Aspect          Slope  Distance_To_Hydrology  \\\n",
       "count  581012.000000  581012.000000  581012.000000          581012.000000   \n",
       "mean        0.550458       0.432380       0.213692               0.194400   \n",
       "std         0.140062       0.310871       0.113458               0.153025   \n",
       "min         0.000000       0.000000       0.000000               0.000000   \n",
       "25%         0.475238       0.161111       0.136364               0.076164   \n",
       "50%         0.568784       0.352778       0.196970               0.161495   \n",
       "75%         0.652326       0.722222       0.272727               0.277151   \n",
       "max         1.000000       1.000000       1.000000               1.000000   \n",
       "\n",
       "       Horizontal_Distance_To_Roadways  Hillshade_9am  Hillshade_Noon  \\\n",
       "count                    581012.000000  581012.000000   581012.000000   \n",
       "mean                          0.330216       0.835221        0.879208   \n",
       "std                           0.219089       0.105393        0.077830   \n",
       "min                           0.000000       0.000000        0.000000   \n",
       "25%                           0.155403       0.779528        0.838583   \n",
       "50%                           0.280596       0.858268        0.889764   \n",
       "75%                           0.467613       0.909449        0.933071   \n",
       "max                           1.000000       1.000000        1.000000   \n",
       "\n",
       "       Hillshade_3pm  Horizontal_Distance_To_Fire_Points     Wilderness  \\\n",
       "count  581012.000000                       581012.000000  581012.000000   \n",
       "mean        0.561135                            0.276076       0.371487   \n",
       "std         0.150687                            0.184608       0.353765   \n",
       "min         0.000000                            0.000000       0.000000   \n",
       "25%         0.468504                            0.142758       0.000000   \n",
       "50%         0.562992                            0.238394       0.333333   \n",
       "75%         0.661417                            0.355500       0.666667   \n",
       "max         1.000000                            1.000000       1.000000   \n",
       "\n",
       "           Soil_Type     Cover_Type  \n",
       "count  581012.000000  581012.000000  \n",
       "mean        0.599037       2.051471  \n",
       "std         0.243216       1.396504  \n",
       "min         0.000000       1.000000  \n",
       "25%         0.487179       1.000000  \n",
       "50%         0.717949       2.000000  \n",
       "75%         0.769231       2.000000  \n",
       "max         1.000000       7.000000  "
      ]
     },
     "execution_count": 47,
     "metadata": {},
     "output_type": "execute_result"
    }
   ],
   "source": [
    "# t = optimized_normalized_data.loc[:, 'Elevation' : 'Slope']\n",
    "# t['Distance_To_Hydrology'] = optimized_normalized_data['Distance_To_Hydrology']\n",
    "# t['Horizontal_Distance_To_Roadways'] = optimized_normalized_data['Horizontal_Distance_To_Roadways']\n",
    "# t['Hillshade_9am'] = optimized_normalized_data['Hillshade_9am']\n",
    "# t['Hillshade_Noon'] = optimized_normalized_data['Hillshade_Noon']\n",
    "# t['Hillshade_3pm'] = optimized_normalized_data['Hillshade_3pm']\n",
    "# t['Horizontal_Distance_To_Fire_Points'] = optimized_normalized_data['Horizontal_Distance_To_Fire_Points']\n",
    "# t['Wilderness'] = optimized_normalized_data['Wilderness']\n",
    "# t['Soil_Type'] = optimized_normalized_data['Soil_Type']\n",
    "# t['Cover_Type'] = optimized_normalized_data['Cover_Type']\n",
    "# optimized_normalized_data = t\n",
    "# optimized_normalized_data.describe()"
   ]
  },
  {
   "cell_type": "code",
   "execution_count": 62,
   "metadata": {},
   "outputs": [],
   "source": [
    "# optimized_normalized_data['Soil_Type'] = optimized_normalized_data['Soil_Type'].astype('category')\n",
    "# optimized_normalized_data['Wilderness'] = optimized_normalized_data['Wilderness'].astype('category')\n",
    "# optimized_normalized_data['Cover_Type'] = optimized_normalized_data['Cover_Type'].astype('category')"
   ]
  },
  {
   "cell_type": "code",
   "execution_count": 63,
   "metadata": {},
   "outputs": [
    {
     "data": {
      "text/html": [
       "<div>\n",
       "<style scoped>\n",
       "    .dataframe tbody tr th:only-of-type {\n",
       "        vertical-align: middle;\n",
       "    }\n",
       "\n",
       "    .dataframe tbody tr th {\n",
       "        vertical-align: top;\n",
       "    }\n",
       "\n",
       "    .dataframe thead th {\n",
       "        text-align: right;\n",
       "    }\n",
       "</style>\n",
       "<table border=\"1\" class=\"dataframe\">\n",
       "  <thead>\n",
       "    <tr style=\"text-align: right;\">\n",
       "      <th></th>\n",
       "      <th>Elevation</th>\n",
       "      <th>Aspect</th>\n",
       "      <th>Slope</th>\n",
       "      <th>Distance_To_Hydrology</th>\n",
       "      <th>Horizontal_Distance_To_Roadways</th>\n",
       "      <th>Hillshade_9am</th>\n",
       "      <th>Hillshade_Noon</th>\n",
       "      <th>Horizontal_Distance_To_Fire_Points</th>\n",
       "    </tr>\n",
       "  </thead>\n",
       "  <tbody>\n",
       "    <tr>\n",
       "      <th>count</th>\n",
       "      <td>581012.000000</td>\n",
       "      <td>581012.000000</td>\n",
       "      <td>581012.000000</td>\n",
       "      <td>581012.000000</td>\n",
       "      <td>581012.000000</td>\n",
       "      <td>581012.000000</td>\n",
       "      <td>581012.000000</td>\n",
       "      <td>581012.000000</td>\n",
       "    </tr>\n",
       "    <tr>\n",
       "      <th>mean</th>\n",
       "      <td>0.550458</td>\n",
       "      <td>0.432380</td>\n",
       "      <td>0.213692</td>\n",
       "      <td>0.194400</td>\n",
       "      <td>0.330216</td>\n",
       "      <td>0.835221</td>\n",
       "      <td>0.879208</td>\n",
       "      <td>0.276076</td>\n",
       "    </tr>\n",
       "    <tr>\n",
       "      <th>std</th>\n",
       "      <td>0.140062</td>\n",
       "      <td>0.310871</td>\n",
       "      <td>0.113458</td>\n",
       "      <td>0.153025</td>\n",
       "      <td>0.219089</td>\n",
       "      <td>0.105393</td>\n",
       "      <td>0.077830</td>\n",
       "      <td>0.184608</td>\n",
       "    </tr>\n",
       "    <tr>\n",
       "      <th>min</th>\n",
       "      <td>0.000000</td>\n",
       "      <td>0.000000</td>\n",
       "      <td>0.000000</td>\n",
       "      <td>0.000000</td>\n",
       "      <td>0.000000</td>\n",
       "      <td>0.000000</td>\n",
       "      <td>0.000000</td>\n",
       "      <td>0.000000</td>\n",
       "    </tr>\n",
       "    <tr>\n",
       "      <th>25%</th>\n",
       "      <td>0.475238</td>\n",
       "      <td>0.161111</td>\n",
       "      <td>0.136364</td>\n",
       "      <td>0.076164</td>\n",
       "      <td>0.155403</td>\n",
       "      <td>0.779528</td>\n",
       "      <td>0.838583</td>\n",
       "      <td>0.142758</td>\n",
       "    </tr>\n",
       "    <tr>\n",
       "      <th>50%</th>\n",
       "      <td>0.568784</td>\n",
       "      <td>0.352778</td>\n",
       "      <td>0.196970</td>\n",
       "      <td>0.161495</td>\n",
       "      <td>0.280596</td>\n",
       "      <td>0.858268</td>\n",
       "      <td>0.889764</td>\n",
       "      <td>0.238394</td>\n",
       "    </tr>\n",
       "    <tr>\n",
       "      <th>75%</th>\n",
       "      <td>0.652326</td>\n",
       "      <td>0.722222</td>\n",
       "      <td>0.272727</td>\n",
       "      <td>0.277151</td>\n",
       "      <td>0.467613</td>\n",
       "      <td>0.909449</td>\n",
       "      <td>0.933071</td>\n",
       "      <td>0.355500</td>\n",
       "    </tr>\n",
       "    <tr>\n",
       "      <th>max</th>\n",
       "      <td>1.000000</td>\n",
       "      <td>1.000000</td>\n",
       "      <td>1.000000</td>\n",
       "      <td>1.000000</td>\n",
       "      <td>1.000000</td>\n",
       "      <td>1.000000</td>\n",
       "      <td>1.000000</td>\n",
       "      <td>1.000000</td>\n",
       "    </tr>\n",
       "  </tbody>\n",
       "</table>\n",
       "</div>"
      ],
      "text/plain": [
       "           Elevation         Aspect          Slope  Distance_To_Hydrology  \\\n",
       "count  581012.000000  581012.000000  581012.000000          581012.000000   \n",
       "mean        0.550458       0.432380       0.213692               0.194400   \n",
       "std         0.140062       0.310871       0.113458               0.153025   \n",
       "min         0.000000       0.000000       0.000000               0.000000   \n",
       "25%         0.475238       0.161111       0.136364               0.076164   \n",
       "50%         0.568784       0.352778       0.196970               0.161495   \n",
       "75%         0.652326       0.722222       0.272727               0.277151   \n",
       "max         1.000000       1.000000       1.000000               1.000000   \n",
       "\n",
       "       Horizontal_Distance_To_Roadways  Hillshade_9am  Hillshade_Noon  \\\n",
       "count                    581012.000000  581012.000000   581012.000000   \n",
       "mean                          0.330216       0.835221        0.879208   \n",
       "std                           0.219089       0.105393        0.077830   \n",
       "min                           0.000000       0.000000        0.000000   \n",
       "25%                           0.155403       0.779528        0.838583   \n",
       "50%                           0.280596       0.858268        0.889764   \n",
       "75%                           0.467613       0.909449        0.933071   \n",
       "max                           1.000000       1.000000        1.000000   \n",
       "\n",
       "       Horizontal_Distance_To_Fire_Points  \n",
       "count                       581012.000000  \n",
       "mean                             0.276076  \n",
       "std                              0.184608  \n",
       "min                              0.000000  \n",
       "25%                              0.142758  \n",
       "50%                              0.238394  \n",
       "75%                              0.355500  \n",
       "max                              1.000000  "
      ]
     },
     "execution_count": 63,
     "metadata": {},
     "output_type": "execute_result"
    }
   ],
   "source": [
    "# optimized_normalized_data.describe()"
   ]
  },
  {
   "cell_type": "markdown",
   "metadata": {},
   "source": [
    "Применим метод главных компонент:"
   ]
  },
  {
   "cell_type": "code",
   "execution_count": 49,
   "metadata": {},
   "outputs": [
    {
     "name": "stdout",
     "output_type": "stream",
     "text": [
      "Elevation  ->  0.359233205783563\n",
      "Aspect  ->  0.24161117635776452\n",
      "Slope  ->  0.13196496267661323\n",
      "Distance_To_Hydrology  ->  0.07775059878236583\n",
      "Horizontal_Distance_To_Roadways  ->  0.05467847786153061\n",
      "Hillshade_9am  ->  0.04508788960875243\n",
      "Hillshade_Noon  ->  0.03840265490564876\n",
      "Hillshade_3pm  ->  0.029472342144870285\n",
      "Horizontal_Distance_To_Fire_Points  ->  0.01484988590272344\n",
      "Wilderness  ->  0.006852414718734678\n",
      "Soil_Type  ->  9.639125743315653e-05\n"
     ]
    },
    {
     "data": {
      "text/plain": [
       "<matplotlib.lines.Line2D at 0x127db8370>"
      ]
     },
     "execution_count": 49,
     "metadata": {},
     "output_type": "execute_result"
    },
    {
     "data": {
      "image/png": "[encoded data removed]",
      "text/plain": [
       "<Figure size 432x288 with 1 Axes>"
      ]
     },
     "metadata": {
      "needs_background": "light"
     },
     "output_type": "display_data"
    }
   ],
   "source": [
    "from sklearn.decomposition import PCA\n",
    "X = optimized_normalized_data.drop(['Cover_Type'], axis=1)\n",
    "pca = PCA(n_components=len(X.columns))\n",
    "pca.fit_transform(X)\n",
    "for index, ratio in enumerate(pca.explained_variance_ratio_):\n",
    "    print(X.columns[index], ' -> ', ratio)\n",
    "    \n",
    "pyplot.grid(True)\n",
    "pyplot.plot(np.cumsum(pca.explained_variance_ratio_))\n",
    "pyplot.axhline(0.98)\n",
    "pyplot.axvline(8)"
   ]
  },
  {
   "cell_type": "markdown",
   "metadata": {},
   "source": [
    "6 компонент достаточно для описания 95% данных."
   ]
  },
  {
   "cell_type": "markdown",
   "metadata": {},
   "source": [
    "Проверим коэффициенты асимметрии:"
   ]
  },
  {
   "cell_type": "code",
   "execution_count": 50,
   "metadata": {},
   "outputs": [
    {
     "data": {
      "text/plain": [
       "Elevation                            -0.817596\n",
       "Aspect                                0.402628\n",
       "Slope                                 0.789273\n",
       "Distance_To_Hydrology                 1.134374\n",
       "Horizontal_Distance_To_Roadways       0.713679\n",
       "Hillshade_9am                        -1.181147\n",
       "Hillshade_Noon                       -1.063056\n",
       "Hillshade_3pm                        -0.277053\n",
       "Horizontal_Distance_To_Fire_Points    1.288644\n",
       "Wilderness                            0.090308\n",
       "Soil_Type                            -0.704271\n",
       "Cover_Type                            2.276574\n",
       "dtype: float64"
      ]
     },
     "execution_count": 50,
     "metadata": {},
     "output_type": "execute_result"
    },
    {
     "data": {
      "image/png": "[encoded data removed]",
      "text/plain": [
       "<Figure size 432x288 with 1 Axes>"
      ]
     },
     "metadata": {
      "needs_background": "light"
     },
     "output_type": "display_data"
    }
   ],
   "source": [
    "pyplot.grid(True)\n",
    "pyplot.xticks(rotation='vertical')\n",
    "pyplot.bar(optimized_normalized_data.columns, optimized_normalized_data.skew())\n",
    "optimized_normalized_data.skew()"
   ]
  },
  {
   "cell_type": "markdown",
   "metadata": {},
   "source": [
    "Проверим корреляции:"
   ]
  },
  {
   "cell_type": "code",
   "execution_count": 51,
   "metadata": {},
   "outputs": [
    {
     "data": {
      "text/html": [
       "<div>\n",
       "<style scoped>\n",
       "    .dataframe tbody tr th:only-of-type {\n",
       "        vertical-align: middle;\n",
       "    }\n",
       "\n",
       "    .dataframe tbody tr th {\n",
       "        vertical-align: top;\n",
       "    }\n",
       "\n",
       "    .dataframe thead th {\n",
       "        text-align: right;\n",
       "    }\n",
       "</style>\n",
       "<table border=\"1\" class=\"dataframe\">\n",
       "  <thead>\n",
       "    <tr style=\"text-align: right;\">\n",
       "      <th></th>\n",
       "      <th>Elevation</th>\n",
       "      <th>Aspect</th>\n",
       "      <th>Slope</th>\n",
       "      <th>Distance_To_Hydrology</th>\n",
       "      <th>Horizontal_Distance_To_Roadways</th>\n",
       "      <th>Hillshade_9am</th>\n",
       "      <th>Hillshade_Noon</th>\n",
       "      <th>Hillshade_3pm</th>\n",
       "      <th>Horizontal_Distance_To_Fire_Points</th>\n",
       "      <th>Wilderness</th>\n",
       "      <th>Soil_Type</th>\n",
       "      <th>Cover_Type</th>\n",
       "    </tr>\n",
       "  </thead>\n",
       "  <tbody>\n",
       "    <tr>\n",
       "      <th>Elevation</th>\n",
       "      <td>1.000000</td>\n",
       "      <td>0.015735</td>\n",
       "      <td>-0.242697</td>\n",
       "      <td>0.298104</td>\n",
       "      <td>0.365559</td>\n",
       "      <td>0.112179</td>\n",
       "      <td>0.205887</td>\n",
       "      <td>0.059148</td>\n",
       "      <td>0.148022</td>\n",
       "      <td>-0.315590</td>\n",
       "      <td>0.689848</td>\n",
       "      <td>-0.269554</td>\n",
       "    </tr>\n",
       "    <tr>\n",
       "      <th>Aspect</th>\n",
       "      <td>0.015735</td>\n",
       "      <td>1.000000</td>\n",
       "      <td>0.078728</td>\n",
       "      <td>0.021103</td>\n",
       "      <td>0.025121</td>\n",
       "      <td>-0.579273</td>\n",
       "      <td>0.336103</td>\n",
       "      <td>0.646944</td>\n",
       "      <td>-0.109172</td>\n",
       "      <td>0.138703</td>\n",
       "      <td>0.007149</td>\n",
       "      <td>0.017080</td>\n",
       "    </tr>\n",
       "    <tr>\n",
       "      <th>Slope</th>\n",
       "      <td>-0.242697</td>\n",
       "      <td>0.078728</td>\n",
       "      <td>1.000000</td>\n",
       "      <td>0.009080</td>\n",
       "      <td>-0.215914</td>\n",
       "      <td>-0.327199</td>\n",
       "      <td>-0.526911</td>\n",
       "      <td>-0.175854</td>\n",
       "      <td>-0.185662</td>\n",
       "      <td>0.286178</td>\n",
       "      <td>-0.105571</td>\n",
       "      <td>0.148285</td>\n",
       "    </tr>\n",
       "    <tr>\n",
       "      <th>Distance_To_Hydrology</th>\n",
       "      <td>0.298104</td>\n",
       "      <td>0.021103</td>\n",
       "      <td>0.009080</td>\n",
       "      <td>1.000000</td>\n",
       "      <td>0.064328</td>\n",
       "      <td>-0.037391</td>\n",
       "      <td>0.036988</td>\n",
       "      <td>0.052163</td>\n",
       "      <td>0.044679</td>\n",
       "      <td>0.065913</td>\n",
       "      <td>0.190041</td>\n",
       "      <td>-0.014289</td>\n",
       "    </tr>\n",
       "    <tr>\n",
       "      <th>Horizontal_Distance_To_Roadways</th>\n",
       "      <td>0.365559</td>\n",
       "      <td>0.025121</td>\n",
       "      <td>-0.215914</td>\n",
       "      <td>0.064328</td>\n",
       "      <td>1.000000</td>\n",
       "      <td>0.034349</td>\n",
       "      <td>0.189461</td>\n",
       "      <td>0.106119</td>\n",
       "      <td>0.331580</td>\n",
       "      <td>-0.445922</td>\n",
       "      <td>0.240829</td>\n",
       "      <td>-0.153450</td>\n",
       "    </tr>\n",
       "    <tr>\n",
       "      <th>Hillshade_9am</th>\n",
       "      <td>0.112179</td>\n",
       "      <td>-0.579273</td>\n",
       "      <td>-0.327199</td>\n",
       "      <td>-0.037391</td>\n",
       "      <td>0.034349</td>\n",
       "      <td>1.000000</td>\n",
       "      <td>0.010037</td>\n",
       "      <td>-0.780296</td>\n",
       "      <td>0.132669</td>\n",
       "      <td>-0.233455</td>\n",
       "      <td>0.040877</td>\n",
       "      <td>-0.035415</td>\n",
       "    </tr>\n",
       "    <tr>\n",
       "      <th>Hillshade_Noon</th>\n",
       "      <td>0.205887</td>\n",
       "      <td>0.336103</td>\n",
       "      <td>-0.526911</td>\n",
       "      <td>0.036988</td>\n",
       "      <td>0.189461</td>\n",
       "      <td>0.010037</td>\n",
       "      <td>1.000000</td>\n",
       "      <td>0.594274</td>\n",
       "      <td>0.057329</td>\n",
       "      <td>-0.080767</td>\n",
       "      <td>0.013662</td>\n",
       "      <td>-0.096426</td>\n",
       "    </tr>\n",
       "    <tr>\n",
       "      <th>Hillshade_3pm</th>\n",
       "      <td>0.059148</td>\n",
       "      <td>0.646944</td>\n",
       "      <td>-0.175854</td>\n",
       "      <td>0.052163</td>\n",
       "      <td>0.106119</td>\n",
       "      <td>-0.780296</td>\n",
       "      <td>0.594274</td>\n",
       "      <td>1.000000</td>\n",
       "      <td>-0.047981</td>\n",
       "      <td>0.105050</td>\n",
       "      <td>-0.001122</td>\n",
       "      <td>-0.048290</td>\n",
       "    </tr>\n",
       "    <tr>\n",
       "      <th>Horizontal_Distance_To_Fire_Points</th>\n",
       "      <td>0.148022</td>\n",
       "      <td>-0.109172</td>\n",
       "      <td>-0.185662</td>\n",
       "      <td>0.044679</td>\n",
       "      <td>0.331580</td>\n",
       "      <td>0.132669</td>\n",
       "      <td>0.057329</td>\n",
       "      <td>-0.047981</td>\n",
       "      <td>1.000000</td>\n",
       "      <td>-0.416830</td>\n",
       "      <td>0.100952</td>\n",
       "      <td>-0.108936</td>\n",
       "    </tr>\n",
       "    <tr>\n",
       "      <th>Wilderness</th>\n",
       "      <td>-0.315590</td>\n",
       "      <td>0.138703</td>\n",
       "      <td>0.286178</td>\n",
       "      <td>0.065913</td>\n",
       "      <td>-0.445922</td>\n",
       "      <td>-0.233455</td>\n",
       "      <td>-0.080767</td>\n",
       "      <td>0.105050</td>\n",
       "      <td>-0.416830</td>\n",
       "      <td>1.000000</td>\n",
       "      <td>-0.271883</td>\n",
       "      <td>0.275464</td>\n",
       "    </tr>\n",
       "    <tr>\n",
       "      <th>Soil_Type</th>\n",
       "      <td>0.689848</td>\n",
       "      <td>0.007149</td>\n",
       "      <td>-0.105571</td>\n",
       "      <td>0.190041</td>\n",
       "      <td>0.240829</td>\n",
       "      <td>0.040877</td>\n",
       "      <td>0.013662</td>\n",
       "      <td>-0.001122</td>\n",
       "      <td>0.100952</td>\n",
       "      <td>-0.271883</td>\n",
       "      <td>1.000000</td>\n",
       "      <td>-0.164337</td>\n",
       "    </tr>\n",
       "    <tr>\n",
       "      <th>Cover_Type</th>\n",
       "      <td>-0.269554</td>\n",
       "      <td>0.017080</td>\n",
       "      <td>0.148285</td>\n",
       "      <td>-0.014289</td>\n",
       "      <td>-0.153450</td>\n",
       "      <td>-0.035415</td>\n",
       "      <td>-0.096426</td>\n",
       "      <td>-0.048290</td>\n",
       "      <td>-0.108936</td>\n",
       "      <td>0.275464</td>\n",
       "      <td>-0.164337</td>\n",
       "      <td>1.000000</td>\n",
       "    </tr>\n",
       "  </tbody>\n",
       "</table>\n",
       "</div>"
      ],
      "text/plain": [
       "                                    Elevation    Aspect     Slope  \\\n",
       "Elevation                            1.000000  0.015735 -0.242697   \n",
       "Aspect                               0.015735  1.000000  0.078728   \n",
       "Slope                               -0.242697  0.078728  1.000000   \n",
       "Distance_To_Hydrology                0.298104  0.021103  0.009080   \n",
       "Horizontal_Distance_To_Roadways      0.365559  0.025121 -0.215914   \n",
       "Hillshade_9am                        0.112179 -0.579273 -0.327199   \n",
       "Hillshade_Noon                       0.205887  0.336103 -0.526911   \n",
       "Hillshade_3pm                        0.059148  0.646944 -0.175854   \n",
       "Horizontal_Distance_To_Fire_Points   0.148022 -0.109172 -0.185662   \n",
       "Wilderness                          -0.315590  0.138703  0.286178   \n",
       "Soil_Type                            0.689848  0.007149 -0.105571   \n",
       "Cover_Type                          -0.269554  0.017080  0.148285   \n",
       "\n",
       "                                    Distance_To_Hydrology  \\\n",
       "Elevation                                        0.298104   \n",
       "Aspect                                           0.021103   \n",
       "Slope                                            0.009080   \n",
       "Distance_To_Hydrology                            1.000000   \n",
       "Horizontal_Distance_To_Roadways                  0.064328   \n",
       "Hillshade_9am                                   -0.037391   \n",
       "Hillshade_Noon                                   0.036988   \n",
       "Hillshade_3pm                                    0.052163   \n",
       "Horizontal_Distance_To_Fire_Points               0.044679   \n",
       "Wilderness                                       0.065913   \n",
       "Soil_Type                                        0.190041   \n",
       "Cover_Type                                      -0.014289   \n",
       "\n",
       "                                    Horizontal_Distance_To_Roadways  \\\n",
       "Elevation                                                  0.365559   \n",
       "Aspect                                                     0.025121   \n",
       "Slope                                                     -0.215914   \n",
       "Distance_To_Hydrology                                      0.064328   \n",
       "Horizontal_Distance_To_Roadways                            1.000000   \n",
       "Hillshade_9am                                              0.034349   \n",
       "Hillshade_Noon                                             0.189461   \n",
       "Hillshade_3pm                                              0.106119   \n",
       "Horizontal_Distance_To_Fire_Points                         0.331580   \n",
       "Wilderness                                                -0.445922   \n",
       "Soil_Type                                                  0.240829   \n",
       "Cover_Type                                                -0.153450   \n",
       "\n",
       "                                    Hillshade_9am  Hillshade_Noon  \\\n",
       "Elevation                                0.112179        0.205887   \n",
       "Aspect                                  -0.579273        0.336103   \n",
       "Slope                                   -0.327199       -0.526911   \n",
       "Distance_To_Hydrology                   -0.037391        0.036988   \n",
       "Horizontal_Distance_To_Roadways          0.034349        0.189461   \n",
       "Hillshade_9am                            1.000000        0.010037   \n",
       "Hillshade_Noon                           0.010037        1.000000   \n",
       "Hillshade_3pm                           -0.780296        0.594274   \n",
       "Horizontal_Distance_To_Fire_Points       0.132669        0.057329   \n",
       "Wilderness                              -0.233455       -0.080767   \n",
       "Soil_Type                                0.040877        0.013662   \n",
       "Cover_Type                              -0.035415       -0.096426   \n",
       "\n",
       "                                    Hillshade_3pm  \\\n",
       "Elevation                                0.059148   \n",
       "Aspect                                   0.646944   \n",
       "Slope                                   -0.175854   \n",
       "Distance_To_Hydrology                    0.052163   \n",
       "Horizontal_Distance_To_Roadways          0.106119   \n",
       "Hillshade_9am                           -0.780296   \n",
       "Hillshade_Noon                           0.594274   \n",
       "Hillshade_3pm                            1.000000   \n",
       "Horizontal_Distance_To_Fire_Points      -0.047981   \n",
       "Wilderness                               0.105050   \n",
       "Soil_Type                               -0.001122   \n",
       "Cover_Type                              -0.048290   \n",
       "\n",
       "                                    Horizontal_Distance_To_Fire_Points  \\\n",
       "Elevation                                                     0.148022   \n",
       "Aspect                                                       -0.109172   \n",
       "Slope                                                        -0.185662   \n",
       "Distance_To_Hydrology                                         0.044679   \n",
       "Horizontal_Distance_To_Roadways                               0.331580   \n",
       "Hillshade_9am                                                 0.132669   \n",
       "Hillshade_Noon                                                0.057329   \n",
       "Hillshade_3pm                                                -0.047981   \n",
       "Horizontal_Distance_To_Fire_Points                            1.000000   \n",
       "Wilderness                                                   -0.416830   \n",
       "Soil_Type                                                     0.100952   \n",
       "Cover_Type                                                   -0.108936   \n",
       "\n",
       "                                    Wilderness  Soil_Type  Cover_Type  \n",
       "Elevation                            -0.315590   0.689848   -0.269554  \n",
       "Aspect                                0.138703   0.007149    0.017080  \n",
       "Slope                                 0.286178  -0.105571    0.148285  \n",
       "Distance_To_Hydrology                 0.065913   0.190041   -0.014289  \n",
       "Horizontal_Distance_To_Roadways      -0.445922   0.240829   -0.153450  \n",
       "Hillshade_9am                        -0.233455   0.040877   -0.035415  \n",
       "Hillshade_Noon                       -0.080767   0.013662   -0.096426  \n",
       "Hillshade_3pm                         0.105050  -0.001122   -0.048290  \n",
       "Horizontal_Distance_To_Fire_Points   -0.416830   0.100952   -0.108936  \n",
       "Wilderness                            1.000000  -0.271883    0.275464  \n",
       "Soil_Type                            -0.271883   1.000000   -0.164337  \n",
       "Cover_Type                            0.275464  -0.164337    1.000000  "
      ]
     },
     "execution_count": 51,
     "metadata": {},
     "output_type": "execute_result"
    }
   ],
   "source": [
    "optimized_normalized_data.corr()"
   ]
  },
  {
   "cell_type": "markdown",
   "metadata": {},
   "source": [
    "Наибольшие коэффициенты корреляции:\n",
    "\n",
    "Hillshade_9am ~ Hillshade_3pm (-0.780296)\n",
    "\n",
    "Elevation ~ Soil_Type (0.689848)\n",
    "\n",
    "Aspect ~ Hillshade_3pm (0.646944)"
   ]
  },
  {
   "cell_type": "markdown",
   "metadata": {},
   "source": [
    "Можно исключить Hillshade_3pm:"
   ]
  },
  {
   "cell_type": "code",
   "execution_count": 52,
   "metadata": {},
   "outputs": [],
   "source": [
    "optimized_normalized_data = optimized_normalized_data.drop(['Hillshade_3pm'], axis=1)"
   ]
  },
  {
   "cell_type": "markdown",
   "metadata": {},
   "source": [
    "Прогоним PCA еще раз:"
   ]
  },
  {
   "cell_type": "code",
   "execution_count": 64,
   "metadata": {},
   "outputs": [
    {
     "name": "stdout",
     "output_type": "stream",
     "text": [
      "Elevation  ->  0.37574136296920546\n",
      "Aspect  ->  0.2292176467771582\n",
      "Slope  ->  0.13849085834994326\n",
      "Distance_To_Hydrology  ->  0.08120188759474131\n",
      "Horizontal_Distance_To_Roadways  ->  0.05752546562699576\n",
      "Hillshade_9am  ->  0.04730520453689402\n",
      "Hillshade_Noon  ->  0.03569480941935928\n",
      "Horizontal_Distance_To_Fire_Points  ->  0.015682365289429335\n",
      "Wilderness  ->  0.012745741603011167\n",
      "Soil_Type  ->  0.006394657833262189\n"
     ]
    },
    {
     "data": {
      "text/plain": [
       "<matplotlib.lines.Line2D at 0x127845cd0>"
      ]
     },
     "execution_count": 64,
     "metadata": {},
     "output_type": "execute_result"
    },
    {
     "data": {
      "image/png": "[encoded data removed]",
      "text/plain": [
       "<Figure size 432x288 with 1 Axes>"
      ]
     },
     "metadata": {
      "needs_background": "light"
     },
     "output_type": "display_data"
    }
   ],
   "source": [
    "from sklearn.decomposition import PCA\n",
    "X = optimized_normalized_data.drop(['Cover_Type'], axis=1)\n",
    "pca = PCA(n_components=len(X.columns))\n",
    "pca.fit_transform(X)\n",
    "for index, ratio in enumerate(pca.explained_variance_ratio_):\n",
    "    print(X.columns[index], ' -> ', ratio)\n",
    "    \n",
    "pyplot.plot(np.cumsum(pca.explained_variance_ratio_))\n",
    "pyplot.axhline(0.98)\n",
    "pyplot.axvline(7)"
   ]
  },
  {
   "cell_type": "markdown",
   "metadata": {},
   "source": [
    "Для описания 98% данных потребовалось 7 компонент"
   ]
  },
  {
   "cell_type": "markdown",
   "metadata": {},
   "source": [
    "Все приготовления для данных готовы. Разделим выборку на 2 части: для обучения и для тестирования. Делить будем в отношении 3:1"
   ]
  },
  {
   "cell_type": "code",
   "execution_count": 65,
   "metadata": {},
   "outputs": [],
   "source": [
    "from sklearn.model_selection import train_test_split\n",
    "\n",
    "target = optimized_normalized_data.Cover_Type\n",
    "train = optimized_normalized_data.drop(['Cover_Type'], axis = 1)\n",
    "models_results = []\n",
    "\n",
    "x_train, x_test, y_train, y_test = train_test_split(train, target, test_size=0.25, random_state=16)"
   ]
  },
  {
   "cell_type": "markdown",
   "metadata": {},
   "source": [
    "Наша цель на данный момент - выделить оптимальный алгоритм для решения этой задачи классификации. Среди кандитатов выделю наиболее популярные алгоритмы:\n",
    "\n",
    "    1) Случайный лес\n",
    "    2) Метод k ближайших соседей\n",
    "    3) Метод градиентного бустинга (XGBoost)"
   ]
  },
  {
   "cell_type": "code",
   "execution_count": null,
   "metadata": {},
   "outputs": [],
   "source": []
  },
  {
   "cell_type": "code",
   "execution_count": 66,
   "metadata": {},
   "outputs": [],
   "source": [
    "from sklearn.ensemble import ExtraTreesClassifier\n",
    "\n",
    "extraTreesClassifier_estimators = []\n",
    "extraTreesClassifier_accuracy = []\n",
    "extraTreesClassifier_train_time = []\n",
    "extraTreesClassifier_predict_time = []\n",
    "extraTreesClassifier_feature_importances = []\n",
    "\n",
    "for estimators in range(10, 301, 10):\n",
    "    trees = ExtraTreesClassifier(n_estimators = estimators, max_features=10)\n",
    "\n",
    "    start_time = time.time()\n",
    "    trees.fit(x_train, y_train)\n",
    "    extraTreesClassifier_train_time.append(time.time() - start_time)\n",
    "\n",
    "    start_time = time.time()\n",
    "    trees_result = trees.predict(x_test)\n",
    "    extraTreesClassifier_predict_time.append(time.time() - start_time)\n",
    "\n",
    "    accuracy = accuracy_score(y_test, trees_result)\n",
    "\n",
    "    extraTreesClassifier_accuracy.append(accuracy)\n",
    "    extraTreesClassifier_estimators.append(estimators)\n",
    "    extraTreesClassifier_feature_importances.append(trees.feature_importances_)"
   ]
  },
  {
   "cell_type": "code",
   "execution_count": null,
   "metadata": {},
   "outputs": [],
   "source": [
    "pyplot.grid(True)\n",
    "pyplot.plot(extraTreesClassifier_estimators, extraTreesClassifier_accuracy, color=\"#FF0000\")\n",
    "pyplot.xlabel('estimators')\n",
    "pyplot.ylabel('accuracy')\n",
    "pyplot.show()"
   ]
  },
  {
   "cell_type": "code",
   "execution_count": 68,
   "metadata": {},
   "outputs": [
    {
     "name": "stdout",
     "output_type": "stream",
     "text": [
      "Best accuracy:  0.9724824960586012\n",
      "Estimatos num:  90\n",
      "Train time:  105.50269222259521\n",
      "Predict time:  4.553394079208374\n"
     ]
    }
   ],
   "source": [
    "best_accuracy = max(extraTreesClassifier_accuracy)\n",
    "index = extraTreesClassifier_accuracy.index(best_accuracy)\n",
    "print('Best accuracy: ', best_accuracy)\n",
    "print('Estimatos num: ', extraTreesClassifier_estimators[index])\n",
    "print('Train time: ', extraTreesClassifier_train_time[index])\n",
    "print('Predict time: ', extraTreesClassifier_predict_time[index])"
   ]
  },
  {
   "cell_type": "code",
   "execution_count": 70,
   "metadata": {},
   "outputs": [
    {
     "name": "stdout",
     "output_type": "stream",
     "text": [
      "Elevation  ->  0.26487963254265096\n",
      "Aspect  ->  0.04857194352157532\n",
      "Slope  ->  0.032130674021041986\n",
      "Distance_To_Hydrology  ->  0.07658777906630573\n",
      "Horizontal_Distance_To_Roadways  ->  0.14428341791684524\n",
      "Hillshade_9am  ->  0.03969613796206607\n",
      "Hillshade_Noon  ->  0.041198752536225944\n",
      "Horizontal_Distance_To_Fire_Points  ->  0.14004971979364125\n",
      "Wilderness  ->  0.061583223854078384\n",
      "Soil_Type  ->  0.15101871878556913\n"
     ]
    }
   ],
   "source": [
    "for i, value in enumerate(extraTreesClassifier_feature_importances[index]):\n",
    "    print(train.columns[i], ' -> ', value)"
   ]
  },
  {
   "cell_type": "code",
   "execution_count": 84,
   "metadata": {},
   "outputs": [
    {
     "data": {
      "text/plain": [
       "<BarContainer object of 10 artists>"
      ]
     },
     "execution_count": 84,
     "metadata": {},
     "output_type": "execute_result"
    },
    {
     "data": {
      "image/png": "[encoded data removed]",
      "text/plain": [
       "<Figure size 432x288 with 1 Axes>"
      ]
     },
     "metadata": {
      "needs_background": "light"
     },
     "output_type": "display_data"
    }
   ],
   "source": [
    "pyplot.xticks(rotation='vertical')\n",
    "pyplot.bar(train.columns, extraTreesClassifier_feature_importances[index], )"
   ]
  },
  {
   "cell_type": "markdown",
   "metadata": {},
   "source": [
    "Elevation -> Soil_Type -> Horizontal_Distance_To_Roadways -> Horizontal_Distance_To_Fire_Points -> Distance_To_Hydrology -> Wilderness -> Aspect -> Hillshade_Noon -> Hillshade_9am -> Slope"
   ]
  },
  {
   "cell_type": "code",
   "execution_count": 78,
   "metadata": {},
   "outputs": [
    {
     "data": {
      "image/png": "[encoded data removed]",
      "text/plain": [
       "<Figure size 432x288 with 1 Axes>"
      ]
     },
     "metadata": {
      "needs_background": "light"
     },
     "output_type": "display_data"
    }
   ],
   "source": [
    "pyplot.grid(True)\n",
    "pyplot.plot(extraTreesClassifier_estimators, extraTreesClassifier_train_time)\n",
    "pyplot.show()"
   ]
  },
  {
   "cell_type": "code",
   "execution_count": 79,
   "metadata": {},
   "outputs": [
    {
     "data": {
      "image/png": "[encoded data removed]",
      "text/plain": [
       "<Figure size 432x288 with 1 Axes>"
      ]
     },
     "metadata": {
      "needs_background": "light"
     },
     "output_type": "display_data"
    }
   ],
   "source": [
    "pyplot.grid(True)\n",
    "pyplot.plot(extraTreesClassifier_estimators, extraTreesClassifier_predict_time)\n",
    "pyplot.show()"
   ]
  },
  {
   "cell_type": "markdown",
   "metadata": {},
   "source": [
    "Добавим результат в итоговую таблицу:"
   ]
  },
  {
   "cell_type": "code",
   "execution_count": null,
   "metadata": {},
   "outputs": [],
   "source": [
    "models_results.append(['ExtraTreesClassifier', best_accuracy, extraTreesClassifier_train_time[index], extraTreesClassifier_predict_time[index], \"estimators num: {}\".format(extraTreesClassifier_estimators[index])])"
   ]
  },
  {
   "cell_type": "code",
   "execution_count": null,
   "metadata": {},
   "outputs": [],
   "source": []
  },
  {
   "cell_type": "code",
   "execution_count": 24,
   "metadata": {},
   "outputs": [],
   "source": [
    "from sklearn.neighbors import KNeighborsClassifier\n",
    "\n",
    "knn_neighbors = []\n",
    "knn_accuracy = []\n",
    "knn_train_time = []\n",
    "knn_predict_time = []\n",
    "neighbors = 5\n",
    "for neighbors in range(1, 51):\n",
    "    knn = KNeighborsClassifier(n_neighbors=neighbors)\n",
    "    \n",
    "    start_time = time.time()\n",
    "    knn.fit(x_train, y_train)\n",
    "    knn_train_time.append(time.time() - start_time)\n",
    "\n",
    "    start_time = time.time()\n",
    "    knn_predict_result = knn.predict(x_test)\n",
    "    knn_predict_time.append(time.time() - start_time)\n",
    "\n",
    "    accuracy = accuracy_score(y_test, knn_predict_result)\n",
    "\n",
    "    knn_neighbors.append(neighbors)\n",
    "    knn_accuracy.append(accuracy)"
   ]
  },
  {
   "cell_type": "code",
   "execution_count": 26,
   "metadata": {},
   "outputs": [
    {
     "data": {
      "image/png": "[encoded data removed]",
      "text/plain": [
       "<Figure size 432x288 with 1 Axes>"
      ]
     },
     "metadata": {
      "needs_background": "light"
     },
     "output_type": "display_data"
    }
   ],
   "source": [
    "pyplot.grid(True)\n",
    "pyplot.plot(knn_neighbors, knn_accuracy, color=\"#FF0000\")\n",
    "pyplot.xlabel('neighbors')\n",
    "pyplot.ylabel('accuracy')\n",
    "pyplot.show()"
   ]
  },
  {
   "cell_type": "code",
   "execution_count": null,
   "metadata": {},
   "outputs": [],
   "source": [
    "best_accuracy = max(knn_accuracy)\n",
    "index = knn_accuracy.index(best_accuracy)\n",
    "print('Best accuracy: ', best_accuracy)\n",
    "print('Neighbors num: ', knn_neighbors[index])\n",
    "print('Train time: ', knn_train_time[index])\n",
    "print('Predict time: ', knn_predict_time[index])"
   ]
  },
  {
   "cell_type": "markdown",
   "metadata": {},
   "source": [
    "Добавим результат в итоговую таблицу:"
   ]
  },
  {
   "cell_type": "code",
   "execution_count": null,
   "metadata": {},
   "outputs": [],
   "source": [
    "models_results.append(['KNeighborsClassifier', best_accuracy, knn_train_time[index], knn_predict_time[index], \"Neighbors num: {}\".format(knn_neighbors[index])])"
   ]
  },
  {
   "cell_type": "code",
   "execution_count": null,
   "metadata": {},
   "outputs": [],
   "source": []
  },
  {
   "cell_type": "code",
   "execution_count": 27,
   "metadata": {
    "scrolled": true
   },
   "outputs": [
    {
     "name": "stdout",
     "output_type": "stream",
     "text": [
      "XGBClassifier train time = 63.58207178115845 seconds\n"
     ]
    }
   ],
   "source": [
    "import xgboost\n",
    "\n",
    "xgboost_model = xgboost.XGBClassifier()\n",
    "\n",
    "start_time = time.time()\n",
    "xgboost_model.fit(x_train, y_train)\n",
    "xgboost_train_time = time.time() - start_time\n",
    "print(\"XGBClassifier train time = {} seconds\".format(xgboost_train_time))\n",
    "\n",
    "start_time = time.time()\n",
    "xgboost_result = xgboost_model.predict(x_test)\n",
    "xgboost_predict_time = time.time() - start_time\n",
    "print(\"XGBoost predict time = {} seconds\".format(xgboost_predict_time))\n",
    "\n",
    "xgboost_model_accuracy = accuracy_score(y_test, xgboost_result)\n",
    "print(\"XGBoost accuracy: \", xgboost_model_accuracy)"
   ]
  },
  {
   "cell_type": "markdown",
   "metadata": {},
   "source": [
    "Добавим результат в итоговую таблицу:"
   ]
  },
  {
   "cell_type": "code",
   "execution_count": null,
   "metadata": {},
   "outputs": [],
   "source": [
    "models_results.append(['XGBClassifier', xgboost_model_accuracy, xgboost_train_time[index], xgboost_predict_time[index], \"???\"])"
   ]
  },
  {
   "cell_type": "code",
   "execution_count": null,
   "metadata": {},
   "outputs": [],
   "source": []
  },
  {
   "cell_type": "code",
   "execution_count": 29,
   "metadata": {},
   "outputs": [],
   "source": [
    "from sklearn.ensemble import RandomForestClassifier\n",
    "\n",
    "randomForestClassifier_estimators = []\n",
    "randomForestClassifier_accuracy = []\n",
    "randomForestClassifier_train_time = []\n",
    "randomForestClassifier_predict_time = []\n",
    "randomForestClassifier_feature_importances = []\n",
    "for estimators in range(10, 301, 10):\n",
    "    randomForestClassifier = RandomForestClassifier(n_estimators = estimators, max_features=10)\n",
    "    \n",
    "    start_time = time.time()\n",
    "    randomForestClassifier.fit(x_train, y_train)\n",
    "    randomForestClassifier_train_time.append(time.time() - start_time)\n",
    "\n",
    "    start_time = time.time()\n",
    "    randomForest_result = randomForestClassifier.predict(x_test)\n",
    "    randomForestClassifier_predict_time.append(time.time() - start_time)\n",
    "\n",
    "    accuracy = accuracy_score(y_test, randomForest_result)\n",
    "    \n",
    "    randomForestClassifier_estimators.append(estimators)\n",
    "    randomForestClassifier_accuracy.append(accuracy)\n",
    "    randomForestClassifier_feature_importances.append(randomForestClassifier.feature_importances_)"
   ]
  },
  {
   "cell_type": "code",
   "execution_count": 30,
   "metadata": {},
   "outputs": [
    {
     "data": {
      "image/png": "[encoded data removed]",
      "text/plain": [
       "<Figure size 432x288 with 1 Axes>"
      ]
     },
     "metadata": {
      "needs_background": "light"
     },
     "output_type": "display_data"
    }
   ],
   "source": [
    "pyplot.grid(True)\n",
    "pyplot.plot(randomForestClassifier_estimators, randomForestClassifier_accuracy, color=\"#FF0000\")\n",
    "pyplot.xlabel('estimators')\n",
    "pyplot.ylabel('accuracy')\n",
    "pyplot.show()"
   ]
  },
  {
   "cell_type": "code",
   "execution_count": 31,
   "metadata": {},
   "outputs": [
    {
     "name": "stdout",
     "output_type": "stream",
     "text": [
      "Best accuracy:  0.9665686767226839\n"
     ]
    }
   ],
   "source": [
    "best_accuracy = max(randomForestClassifier_accuracy)\n",
    "index = randomForestClassifier_accuracy.index(best_accuracy)\n",
    "print('Best accuracy: ', best_accuracy)\n",
    "print('Estimatos num: ', randomForestClassifier_estimators[index])\n",
    "print('Train time: ', randomForestClassifier_train_time[index])\n",
    "print('Predict time: ', randomForestClassifier_predict_time[index])"
   ]
  },
  {
   "cell_type": "code",
   "execution_count": null,
   "metadata": {},
   "outputs": [],
   "source": [
    "for i, value in enumerate(randomForestClassifier_feature_importances[index]):\n",
    "    print(train.columns[i], ' -> ', value)"
   ]
  },
  {
   "cell_type": "code",
   "execution_count": null,
   "metadata": {},
   "outputs": [],
   "source": [
    "pyplot.xticks(rotation='vertical')\n",
    "pyplot.bar(train.columns, randomForestClassifier_feature_importances[index], )"
   ]
  },
  {
   "cell_type": "markdown",
   "metadata": {},
   "source": [
    "Elevation -> Soil_Type -> Horizontal_Distance_To_Roadways -> Horizontal_Distance_To_Fire_Points -> Distance_To_Hydrology -> Wilderness -> Aspect -> Hillshade_Noon -> Hillshade_9am -> Slope"
   ]
  },
  {
   "cell_type": "code",
   "execution_count": null,
   "metadata": {},
   "outputs": [],
   "source": [
    "pyplot.grid(True)\n",
    "pyplot.plot(randomForestClassifier_estimators, randomForestClassifier_train_time)\n",
    "pyplot.show()"
   ]
  },
  {
   "cell_type": "code",
   "execution_count": null,
   "metadata": {},
   "outputs": [],
   "source": [
    "pyplot.grid(True)\n",
    "pyplot.plot(randomForestClassifier_estimators, randomForestClassifier_predict_time)\n",
    "pyplot.show()"
   ]
  },
  {
   "cell_type": "markdown",
   "metadata": {},
   "source": [
    "Добавим результат в итоговую таблицу:"
   ]
  },
  {
   "cell_type": "code",
   "execution_count": null,
   "metadata": {},
   "outputs": [],
   "source": [
    "models_results.append(['RandomForestClassifier', best_accuracy, randomForestClassifier_train_time[index], randomForestClassifier_predict_time[index], \"estimators num: {}\".format(randomForestClassifier_estimators[index])])"
   ]
  },
  {
   "cell_type": "markdown",
   "metadata": {},
   "source": [
    "Выводим итоговою таблицу:"
   ]
  },
  {
   "cell_type": "code",
   "execution_count": 86,
   "metadata": {},
   "outputs": [
    {
     "name": "stdout",
     "output_type": "stream",
     "text": [
      "{}\n"
     ]
    }
   ],
   "source": [
    "print(models_results)"
   ]
  },
  {
   "cell_type": "code",
   "execution_count": null,
   "metadata": {},
   "outputs": [],
   "source": []
  }
 ],
 "metadata": {
  "kernelspec": {
   "display_name": "Python 3",
   "language": "python",
   "name": "python3"
  },
  "language_info": {
   "codemirror_mode": {
    "name": "ipython",
    "version": 3
   },
   "file_extension": ".py",
   "mimetype": "text/x-python",
   "name": "python",
   "nbconvert_exporter": "python",
   "pygments_lexer": "ipython3",
   "version": "3.8.5"
  }
 },
 "nbformat": 4,
 "nbformat_minor": 4
}
