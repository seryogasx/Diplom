{
 "cells": [
  {
   "cell_type": "markdown",
   "metadata": {},
   "source": [
    "# Анализ картографических данных и прогнозирование доминирующего вида лесного покрова"
   ]
  },
  {
   "cell_type": "markdown",
   "metadata": {},
   "source": [
    "Получаем набор данных c https://www.kaggle.com/uciml/forest-cover-type-dataset, содержащий информацию о лесном покрове в четырех областях Roosevelt National Forest in Colorado (национальный лес, расположенный с северной части штата Колорадо, США)"
   ]
  },
  {
   "cell_type": "markdown",
   "metadata": {},
   "source": [
    "Местность поделена на квадраты размером 30x30 метров и каждый характеризуется следующими параметрами:\n",
    "\n",
    "    Elevation = Высота над уровнем моря (целое число)\n",
    "\n",
    "    Aspect = Аспект в градусах по азимуту (целое число)\n",
    "\n",
    "    Slope = Уклон в градусах (целое число)\n",
    "\n",
    "    Horizontal_Distance_To_Hydrology = Горизонтальное расстояние до ближайших водных объектов (целое число)\n",
    "\n",
    "    Vertical_Distance_To_Hydrology = Вертикальное расстояние до ближайших водных объектов (целое число)\n",
    "\n",
    "    Horizontal_Distance_To_Roadways = Горизонтальное расстояние до ближайшей проезжей части (целое число).\n",
    "\n",
    "    Hillshade_9am = Индекс тени холма в 9 часов утра, в день летнего солнцестояния (целое число 0..255)\n",
    "\n",
    "    Hillshade_Noon = Индекс тени холма в полдень, в день летнего солнцестояния (целое число 0..255)\n",
    "\n",
    "    Hillshade_3pm = Индекс тени холма в 3 часа дня, в день летнего солнцестояния (целое число 0..255)\n",
    "\n",
    "    Horizontal_Distance_To_Fire_Point = Расстояние по горизонтали до ближайших точек возгорания пожаров (целое число)\n",
    "\n",
    "    Wilderness_Area1 = Принадлежность Rawah Wilderness Area (целое число: 1 - принадлежит, 0 - нет)\n",
    "\n",
    "    Wilderness_Area2 = Принадлежность Neota Wilderness Area (целое число: 1 - принадлежит, 0 - нет)\n",
    "\n",
    "    Wilderness_Area3 = Принадлежность Comanche Peak Wilderness Area (целое число: 1 - принадлежит, 0 - нет)\n",
    "\n",
    "    Wilderness_Area4 = Принадлежность Cache la Poudre Wilderness Area (целое число: 1 - принадлежит, 0 - нет)\n",
    "\n",
    "    Soil_Type1, Soil_Type2, ... , Soil_Type40 = тип почвы на квадрате (целое число: 1 - принадлежит, 0 - нет)"
   ]
  },
  {
   "cell_type": "markdown",
   "metadata": {},
   "source": [
    "Последний параметр квадрата - Cover_Type, характеризующий доминирующий вид лесного покрова на квадрате. Задается целым числом от 1 до 7:\n",
    "    \n",
    "    1) Пихтовый лес\n",
    "    2) Сосна скрученная\n",
    "    3) Сосна жёлтая\n",
    "    4) Тополь/Ива\n",
    "    5) Осина\n",
    "    6) Дугласова пихта\n",
    "    7) Криволесье"
   ]
  },
  {
   "cell_type": "markdown",
   "metadata": {},
   "source": [
    "Всего признаков - 55"
   ]
  },
  {
   "cell_type": "markdown",
   "metadata": {},
   "source": [
    "## Ход решения"
   ]
  },
  {
   "cell_type": "markdown",
   "metadata": {},
   "source": [
    "Импортируем необходимые модули"
   ]
  },
  {
   "cell_type": "code",
   "execution_count": 1,
   "metadata": {},
   "outputs": [],
   "source": [
    "import pandas as pd\n",
    "import numpy as np\n",
    "import time\n",
    "from math import fabs\n",
    "import matplotlib.pyplot as pyplot\n",
    "from sklearn.model_selection import train_test_split\n",
    "from sklearn.metrics import accuracy_score"
   ]
  },
  {
   "cell_type": "markdown",
   "metadata": {},
   "source": [
    "Импортируем данные с локального хранилища"
   ]
  },
  {
   "cell_type": "code",
   "execution_count": 2,
   "metadata": {},
   "outputs": [
    {
     "name": "stdout",
     "output_type": "stream",
     "text": [
      "Количество признаков: 55\n",
      "Количество объектов: 581012\n"
     ]
    }
   ],
   "source": [
    "data = pd.read_csv('covtype.csv')\n",
    "print('Количество признаков:', len(data.columns))\n",
    "print('Количество объектов:', len(data))"
   ]
  },
  {
   "cell_type": "markdown",
   "metadata": {},
   "source": [
    "Проверим содержание и сгенерируем описательную статистику полученных данных:"
   ]
  },
  {
   "cell_type": "code",
   "execution_count": 3,
   "metadata": {},
   "outputs": [
    {
     "name": "stdout",
     "output_type": "stream",
     "text": [
      "<class 'pandas.core.frame.DataFrame'>\n",
      "RangeIndex: 581012 entries, 0 to 581011\n",
      "Data columns (total 55 columns):\n",
      " #   Column                              Non-Null Count   Dtype\n",
      "---  ------                              --------------   -----\n",
      " 0   Elevation                           581012 non-null  int64\n",
      " 1   Aspect                              581012 non-null  int64\n",
      " 2   Slope                               581012 non-null  int64\n",
      " 3   Horizontal_Distance_To_Hydrology    581012 non-null  int64\n",
      " 4   Vertical_Distance_To_Hydrology      581012 non-null  int64\n",
      " 5   Horizontal_Distance_To_Roadways     581012 non-null  int64\n",
      " 6   Hillshade_9am                       581012 non-null  int64\n",
      " 7   Hillshade_Noon                      581012 non-null  int64\n",
      " 8   Hillshade_3pm                       581012 non-null  int64\n",
      " 9   Horizontal_Distance_To_Fire_Points  581012 non-null  int64\n",
      " 10  Wilderness_Area1                    581012 non-null  int64\n",
      " 11  Wilderness_Area2                    581012 non-null  int64\n",
      " 12  Wilderness_Area3                    581012 non-null  int64\n",
      " 13  Wilderness_Area4                    581012 non-null  int64\n",
      " 14  Soil_Type1                          581012 non-null  int64\n",
      " 15  Soil_Type2                          581012 non-null  int64\n",
      " 16  Soil_Type3                          581012 non-null  int64\n",
      " 17  Soil_Type4                          581012 non-null  int64\n",
      " 18  Soil_Type5                          581012 non-null  int64\n",
      " 19  Soil_Type6                          581012 non-null  int64\n",
      " 20  Soil_Type7                          581012 non-null  int64\n",
      " 21  Soil_Type8                          581012 non-null  int64\n",
      " 22  Soil_Type9                          581012 non-null  int64\n",
      " 23  Soil_Type10                         581012 non-null  int64\n",
      " 24  Soil_Type11                         581012 non-null  int64\n",
      " 25  Soil_Type12                         581012 non-null  int64\n",
      " 26  Soil_Type13                         581012 non-null  int64\n",
      " 27  Soil_Type14                         581012 non-null  int64\n",
      " 28  Soil_Type15                         581012 non-null  int64\n",
      " 29  Soil_Type16                         581012 non-null  int64\n",
      " 30  Soil_Type17                         581012 non-null  int64\n",
      " 31  Soil_Type18                         581012 non-null  int64\n",
      " 32  Soil_Type19                         581012 non-null  int64\n",
      " 33  Soil_Type20                         581012 non-null  int64\n",
      " 34  Soil_Type21                         581012 non-null  int64\n",
      " 35  Soil_Type22                         581012 non-null  int64\n",
      " 36  Soil_Type23                         581012 non-null  int64\n",
      " 37  Soil_Type24                         581012 non-null  int64\n",
      " 38  Soil_Type25                         581012 non-null  int64\n",
      " 39  Soil_Type26                         581012 non-null  int64\n",
      " 40  Soil_Type27                         581012 non-null  int64\n",
      " 41  Soil_Type28                         581012 non-null  int64\n",
      " 42  Soil_Type29                         581012 non-null  int64\n",
      " 43  Soil_Type30                         581012 non-null  int64\n",
      " 44  Soil_Type31                         581012 non-null  int64\n",
      " 45  Soil_Type32                         581012 non-null  int64\n",
      " 46  Soil_Type33                         581012 non-null  int64\n",
      " 47  Soil_Type34                         581012 non-null  int64\n",
      " 48  Soil_Type35                         581012 non-null  int64\n",
      " 49  Soil_Type36                         581012 non-null  int64\n",
      " 50  Soil_Type37                         581012 non-null  int64\n",
      " 51  Soil_Type38                         581012 non-null  int64\n",
      " 52  Soil_Type39                         581012 non-null  int64\n",
      " 53  Soil_Type40                         581012 non-null  int64\n",
      " 54  Cover_Type                          581012 non-null  int64\n",
      "dtypes: int64(55)\n",
      "memory usage: 243.8 MB\n"
     ]
    }
   ],
   "source": [
    "data.info()"
   ]
  },
  {
   "cell_type": "code",
   "execution_count": 4,
   "metadata": {},
   "outputs": [
    {
     "data": {
      "text/html": [
       "<div>\n",
       "<style scoped>\n",
       "    .dataframe tbody tr th:only-of-type {\n",
       "        vertical-align: middle;\n",
       "    }\n",
       "\n",
       "    .dataframe tbody tr th {\n",
       "        vertical-align: top;\n",
       "    }\n",
       "\n",
       "    .dataframe thead th {\n",
       "        text-align: right;\n",
       "    }\n",
       "</style>\n",
       "<table border=\"1\" class=\"dataframe\">\n",
       "  <thead>\n",
       "    <tr style=\"text-align: right;\">\n",
       "      <th></th>\n",
       "      <th>Elevation</th>\n",
       "      <th>Aspect</th>\n",
       "      <th>Slope</th>\n",
       "      <th>Horizontal_Distance_To_Hydrology</th>\n",
       "      <th>Vertical_Distance_To_Hydrology</th>\n",
       "      <th>Horizontal_Distance_To_Roadways</th>\n",
       "      <th>Hillshade_9am</th>\n",
       "      <th>Hillshade_Noon</th>\n",
       "      <th>Hillshade_3pm</th>\n",
       "      <th>Horizontal_Distance_To_Fire_Points</th>\n",
       "      <th>...</th>\n",
       "      <th>Soil_Type32</th>\n",
       "      <th>Soil_Type33</th>\n",
       "      <th>Soil_Type34</th>\n",
       "      <th>Soil_Type35</th>\n",
       "      <th>Soil_Type36</th>\n",
       "      <th>Soil_Type37</th>\n",
       "      <th>Soil_Type38</th>\n",
       "      <th>Soil_Type39</th>\n",
       "      <th>Soil_Type40</th>\n",
       "      <th>Cover_Type</th>\n",
       "    </tr>\n",
       "  </thead>\n",
       "  <tbody>\n",
       "    <tr>\n",
       "      <th>count</th>\n",
       "      <td>581012.000000</td>\n",
       "      <td>581012.000000</td>\n",
       "      <td>581012.000000</td>\n",
       "      <td>581012.000000</td>\n",
       "      <td>581012.000000</td>\n",
       "      <td>581012.000000</td>\n",
       "      <td>581012.000000</td>\n",
       "      <td>581012.000000</td>\n",
       "      <td>581012.000000</td>\n",
       "      <td>581012.000000</td>\n",
       "      <td>...</td>\n",
       "      <td>581012.000000</td>\n",
       "      <td>581012.000000</td>\n",
       "      <td>581012.000000</td>\n",
       "      <td>581012.000000</td>\n",
       "      <td>581012.000000</td>\n",
       "      <td>581012.000000</td>\n",
       "      <td>581012.000000</td>\n",
       "      <td>581012.000000</td>\n",
       "      <td>581012.000000</td>\n",
       "      <td>581012.000000</td>\n",
       "    </tr>\n",
       "    <tr>\n",
       "      <th>mean</th>\n",
       "      <td>2959.365301</td>\n",
       "      <td>155.656807</td>\n",
       "      <td>14.103704</td>\n",
       "      <td>269.428217</td>\n",
       "      <td>46.418855</td>\n",
       "      <td>2350.146611</td>\n",
       "      <td>212.146049</td>\n",
       "      <td>223.318716</td>\n",
       "      <td>142.528263</td>\n",
       "      <td>1980.291226</td>\n",
       "      <td>...</td>\n",
       "      <td>0.090392</td>\n",
       "      <td>0.077716</td>\n",
       "      <td>0.002773</td>\n",
       "      <td>0.003255</td>\n",
       "      <td>0.000205</td>\n",
       "      <td>0.000513</td>\n",
       "      <td>0.026803</td>\n",
       "      <td>0.023762</td>\n",
       "      <td>0.015060</td>\n",
       "      <td>2.051471</td>\n",
       "    </tr>\n",
       "    <tr>\n",
       "      <th>std</th>\n",
       "      <td>279.984734</td>\n",
       "      <td>111.913721</td>\n",
       "      <td>7.488242</td>\n",
       "      <td>212.549356</td>\n",
       "      <td>58.295232</td>\n",
       "      <td>1559.254870</td>\n",
       "      <td>26.769889</td>\n",
       "      <td>19.768697</td>\n",
       "      <td>38.274529</td>\n",
       "      <td>1324.195210</td>\n",
       "      <td>...</td>\n",
       "      <td>0.286743</td>\n",
       "      <td>0.267725</td>\n",
       "      <td>0.052584</td>\n",
       "      <td>0.056957</td>\n",
       "      <td>0.014310</td>\n",
       "      <td>0.022641</td>\n",
       "      <td>0.161508</td>\n",
       "      <td>0.152307</td>\n",
       "      <td>0.121791</td>\n",
       "      <td>1.396504</td>\n",
       "    </tr>\n",
       "    <tr>\n",
       "      <th>min</th>\n",
       "      <td>1859.000000</td>\n",
       "      <td>0.000000</td>\n",
       "      <td>0.000000</td>\n",
       "      <td>0.000000</td>\n",
       "      <td>-173.000000</td>\n",
       "      <td>0.000000</td>\n",
       "      <td>0.000000</td>\n",
       "      <td>0.000000</td>\n",
       "      <td>0.000000</td>\n",
       "      <td>0.000000</td>\n",
       "      <td>...</td>\n",
       "      <td>0.000000</td>\n",
       "      <td>0.000000</td>\n",
       "      <td>0.000000</td>\n",
       "      <td>0.000000</td>\n",
       "      <td>0.000000</td>\n",
       "      <td>0.000000</td>\n",
       "      <td>0.000000</td>\n",
       "      <td>0.000000</td>\n",
       "      <td>0.000000</td>\n",
       "      <td>1.000000</td>\n",
       "    </tr>\n",
       "    <tr>\n",
       "      <th>25%</th>\n",
       "      <td>2809.000000</td>\n",
       "      <td>58.000000</td>\n",
       "      <td>9.000000</td>\n",
       "      <td>108.000000</td>\n",
       "      <td>7.000000</td>\n",
       "      <td>1106.000000</td>\n",
       "      <td>198.000000</td>\n",
       "      <td>213.000000</td>\n",
       "      <td>119.000000</td>\n",
       "      <td>1024.000000</td>\n",
       "      <td>...</td>\n",
       "      <td>0.000000</td>\n",
       "      <td>0.000000</td>\n",
       "      <td>0.000000</td>\n",
       "      <td>0.000000</td>\n",
       "      <td>0.000000</td>\n",
       "      <td>0.000000</td>\n",
       "      <td>0.000000</td>\n",
       "      <td>0.000000</td>\n",
       "      <td>0.000000</td>\n",
       "      <td>1.000000</td>\n",
       "    </tr>\n",
       "    <tr>\n",
       "      <th>50%</th>\n",
       "      <td>2996.000000</td>\n",
       "      <td>127.000000</td>\n",
       "      <td>13.000000</td>\n",
       "      <td>218.000000</td>\n",
       "      <td>30.000000</td>\n",
       "      <td>1997.000000</td>\n",
       "      <td>218.000000</td>\n",
       "      <td>226.000000</td>\n",
       "      <td>143.000000</td>\n",
       "      <td>1710.000000</td>\n",
       "      <td>...</td>\n",
       "      <td>0.000000</td>\n",
       "      <td>0.000000</td>\n",
       "      <td>0.000000</td>\n",
       "      <td>0.000000</td>\n",
       "      <td>0.000000</td>\n",
       "      <td>0.000000</td>\n",
       "      <td>0.000000</td>\n",
       "      <td>0.000000</td>\n",
       "      <td>0.000000</td>\n",
       "      <td>2.000000</td>\n",
       "    </tr>\n",
       "    <tr>\n",
       "      <th>75%</th>\n",
       "      <td>3163.000000</td>\n",
       "      <td>260.000000</td>\n",
       "      <td>18.000000</td>\n",
       "      <td>384.000000</td>\n",
       "      <td>69.000000</td>\n",
       "      <td>3328.000000</td>\n",
       "      <td>231.000000</td>\n",
       "      <td>237.000000</td>\n",
       "      <td>168.000000</td>\n",
       "      <td>2550.000000</td>\n",
       "      <td>...</td>\n",
       "      <td>0.000000</td>\n",
       "      <td>0.000000</td>\n",
       "      <td>0.000000</td>\n",
       "      <td>0.000000</td>\n",
       "      <td>0.000000</td>\n",
       "      <td>0.000000</td>\n",
       "      <td>0.000000</td>\n",
       "      <td>0.000000</td>\n",
       "      <td>0.000000</td>\n",
       "      <td>2.000000</td>\n",
       "    </tr>\n",
       "    <tr>\n",
       "      <th>max</th>\n",
       "      <td>3858.000000</td>\n",
       "      <td>360.000000</td>\n",
       "      <td>66.000000</td>\n",
       "      <td>1397.000000</td>\n",
       "      <td>601.000000</td>\n",
       "      <td>7117.000000</td>\n",
       "      <td>254.000000</td>\n",
       "      <td>254.000000</td>\n",
       "      <td>254.000000</td>\n",
       "      <td>7173.000000</td>\n",
       "      <td>...</td>\n",
       "      <td>1.000000</td>\n",
       "      <td>1.000000</td>\n",
       "      <td>1.000000</td>\n",
       "      <td>1.000000</td>\n",
       "      <td>1.000000</td>\n",
       "      <td>1.000000</td>\n",
       "      <td>1.000000</td>\n",
       "      <td>1.000000</td>\n",
       "      <td>1.000000</td>\n",
       "      <td>7.000000</td>\n",
       "    </tr>\n",
       "  </tbody>\n",
       "</table>\n",
       "<p>8 rows × 55 columns</p>\n",
       "</div>"
      ],
      "text/plain": [
       "           Elevation         Aspect          Slope  \\\n",
       "count  581012.000000  581012.000000  581012.000000   \n",
       "mean     2959.365301     155.656807      14.103704   \n",
       "std       279.984734     111.913721       7.488242   \n",
       "min      1859.000000       0.000000       0.000000   \n",
       "25%      2809.000000      58.000000       9.000000   \n",
       "50%      2996.000000     127.000000      13.000000   \n",
       "75%      3163.000000     260.000000      18.000000   \n",
       "max      3858.000000     360.000000      66.000000   \n",
       "\n",
       "       Horizontal_Distance_To_Hydrology  Vertical_Distance_To_Hydrology  \\\n",
       "count                     581012.000000                   581012.000000   \n",
       "mean                         269.428217                       46.418855   \n",
       "std                          212.549356                       58.295232   \n",
       "min                            0.000000                     -173.000000   \n",
       "25%                          108.000000                        7.000000   \n",
       "50%                          218.000000                       30.000000   \n",
       "75%                          384.000000                       69.000000   \n",
       "max                         1397.000000                      601.000000   \n",
       "\n",
       "       Horizontal_Distance_To_Roadways  Hillshade_9am  Hillshade_Noon  \\\n",
       "count                    581012.000000  581012.000000   581012.000000   \n",
       "mean                       2350.146611     212.146049      223.318716   \n",
       "std                        1559.254870      26.769889       19.768697   \n",
       "min                           0.000000       0.000000        0.000000   \n",
       "25%                        1106.000000     198.000000      213.000000   \n",
       "50%                        1997.000000     218.000000      226.000000   \n",
       "75%                        3328.000000     231.000000      237.000000   \n",
       "max                        7117.000000     254.000000      254.000000   \n",
       "\n",
       "       Hillshade_3pm  Horizontal_Distance_To_Fire_Points  ...    Soil_Type32  \\\n",
       "count  581012.000000                       581012.000000  ...  581012.000000   \n",
       "mean      142.528263                         1980.291226  ...       0.090392   \n",
       "std        38.274529                         1324.195210  ...       0.286743   \n",
       "min         0.000000                            0.000000  ...       0.000000   \n",
       "25%       119.000000                         1024.000000  ...       0.000000   \n",
       "50%       143.000000                         1710.000000  ...       0.000000   \n",
       "75%       168.000000                         2550.000000  ...       0.000000   \n",
       "max       254.000000                         7173.000000  ...       1.000000   \n",
       "\n",
       "         Soil_Type33    Soil_Type34    Soil_Type35    Soil_Type36  \\\n",
       "count  581012.000000  581012.000000  581012.000000  581012.000000   \n",
       "mean        0.077716       0.002773       0.003255       0.000205   \n",
       "std         0.267725       0.052584       0.056957       0.014310   \n",
       "min         0.000000       0.000000       0.000000       0.000000   \n",
       "25%         0.000000       0.000000       0.000000       0.000000   \n",
       "50%         0.000000       0.000000       0.000000       0.000000   \n",
       "75%         0.000000       0.000000       0.000000       0.000000   \n",
       "max         1.000000       1.000000       1.000000       1.000000   \n",
       "\n",
       "         Soil_Type37    Soil_Type38    Soil_Type39    Soil_Type40  \\\n",
       "count  581012.000000  581012.000000  581012.000000  581012.000000   \n",
       "mean        0.000513       0.026803       0.023762       0.015060   \n",
       "std         0.022641       0.161508       0.152307       0.121791   \n",
       "min         0.000000       0.000000       0.000000       0.000000   \n",
       "25%         0.000000       0.000000       0.000000       0.000000   \n",
       "50%         0.000000       0.000000       0.000000       0.000000   \n",
       "75%         0.000000       0.000000       0.000000       0.000000   \n",
       "max         1.000000       1.000000       1.000000       1.000000   \n",
       "\n",
       "          Cover_Type  \n",
       "count  581012.000000  \n",
       "mean        2.051471  \n",
       "std         1.396504  \n",
       "min         1.000000  \n",
       "25%         1.000000  \n",
       "50%         2.000000  \n",
       "75%         2.000000  \n",
       "max         7.000000  \n",
       "\n",
       "[8 rows x 55 columns]"
      ]
     },
     "execution_count": 4,
     "metadata": {},
     "output_type": "execute_result"
    }
   ],
   "source": [
    "data.describe()"
   ]
  },
  {
   "cell_type": "markdown",
   "metadata": {},
   "source": [
    "Выводы:\n",
    "   \n",
    "    1) Пропусков в данных не выявлено\n",
    "\n",
    "    2) Данные не нормализованы, что может стать помехой для некоторых алгоритмов"
   ]
  },
  {
   "cell_type": "code",
   "execution_count": 5,
   "metadata": {},
   "outputs": [],
   "source": [
    "# import seaborn as sb\n",
    "# import warnings\n",
    "# warnings.filterwarnings('ignore')\n",
    "# for index, col in enumerate(data.loc[:, :'Horizontal_Distance_To_Fire_Points']):\n",
    "#     pyplot.figure(index)\n",
    "#     sb.distplot(data[col])"
   ]
  },
  {
   "cell_type": "markdown",
   "metadata": {},
   "source": [
    "Для начала уменьшим размерность.\n",
    "Каждая запись в наборе данных имеет 40 столбцов для обозначения типа почвы. Более оптимальный вариант хранения - использовать один столбец, содержащий номер доминирующего вида почвы в виде дискретной целой величины, принимающей значения от 1 до 40:"
   ]
  },
  {
   "cell_type": "code",
   "execution_count": 6,
   "metadata": {},
   "outputs": [],
   "source": [
    "optimized_data = data.drop(data.loc[:, 'Soil_Type1' : 'Soil_Type40'], axis = 1)\n",
    "union_soil_data = pd.Series([0 for _ in range(len(data))])\n",
    "for index, col in enumerate(data.loc[:, 'Soil_Type1' : 'Soil_Type40']):\n",
    "    for item in np.where(data[col].values == 1):\n",
    "        union_soil_data[item] = index + 1\n",
    "optimized_data['Soil_Type'] = union_soil_data"
   ]
  },
  {
   "cell_type": "markdown",
   "metadata": {},
   "source": [
    "Таким же образом поступим с Wilderness_Area1, Wilderness_Area2, Wilderness_Area3 и Wilderness_Area4:"
   ]
  },
  {
   "cell_type": "code",
   "execution_count": 7,
   "metadata": {},
   "outputs": [],
   "source": [
    "optimized_data = optimized_data.drop(optimized_data.loc[:, 'Wilderness_Area1' : 'Wilderness_Area4'], axis = 1)\n",
    "union_wilderness_data = pd.Series([0 for _ in range(len(data))])\n",
    "for index, col in enumerate(data.loc[:, 'Wilderness_Area1' : 'Wilderness_Area4']):\n",
    "    for item in np.where(data[col].values == 1):\n",
    "        union_wilderness_data[item] = index + 1\n",
    "optimized_data['Wilderness'] = union_wilderness_data"
   ]
  },
  {
   "cell_type": "markdown",
   "metadata": {},
   "source": [
    "Расстоние до источников воды также лучше мерить одним значением:"
   ]
  },
  {
   "cell_type": "code",
   "execution_count": 8,
   "metadata": {},
   "outputs": [],
   "source": [
    "from math import sqrt\n",
    "optimized_data = optimized_data.drop(optimized_data.loc[:, 'Horizontal_Distance_To_Hydrology' : 'Vertical_Distance_To_Hydrology'], axis = 1)\n",
    "union_distance_data = pd.Series([0 for _ in range(len(data))])\n",
    "for index in range(len(data)):\n",
    "    union_distance_data[index] = sqrt(data['Horizontal_Distance_To_Hydrology'][index]**2 + data['Vertical_Distance_To_Hydrology'][index]**2)\n",
    "optimized_data['Distance_To_Hydrology'] = union_distance_data"
   ]
  },
  {
   "cell_type": "code",
   "execution_count": 9,
   "metadata": {},
   "outputs": [
    {
     "name": "stdout",
     "output_type": "stream",
     "text": [
      "<class 'pandas.core.frame.DataFrame'>\n",
      "RangeIndex: 581012 entries, 0 to 581011\n",
      "Data columns (total 12 columns):\n",
      " #   Column                              Non-Null Count   Dtype\n",
      "---  ------                              --------------   -----\n",
      " 0   Elevation                           581012 non-null  int64\n",
      " 1   Aspect                              581012 non-null  int64\n",
      " 2   Slope                               581012 non-null  int64\n",
      " 3   Horizontal_Distance_To_Roadways     581012 non-null  int64\n",
      " 4   Hillshade_9am                       581012 non-null  int64\n",
      " 5   Hillshade_Noon                      581012 non-null  int64\n",
      " 6   Hillshade_3pm                       581012 non-null  int64\n",
      " 7   Horizontal_Distance_To_Fire_Points  581012 non-null  int64\n",
      " 8   Cover_Type                          581012 non-null  int64\n",
      " 9   Soil_Type                           581012 non-null  int64\n",
      " 10  Wilderness                          581012 non-null  int64\n",
      " 11  Distance_To_Hydrology               581012 non-null  int64\n",
      "dtypes: int64(12)\n",
      "memory usage: 53.2 MB\n"
     ]
    }
   ],
   "source": [
    "optimized_data.info()"
   ]
  },
  {
   "cell_type": "code",
   "execution_count": 10,
   "metadata": {},
   "outputs": [
    {
     "data": {
      "text/html": [
       "<div>\n",
       "<style scoped>\n",
       "    .dataframe tbody tr th:only-of-type {\n",
       "        vertical-align: middle;\n",
       "    }\n",
       "\n",
       "    .dataframe tbody tr th {\n",
       "        vertical-align: top;\n",
       "    }\n",
       "\n",
       "    .dataframe thead th {\n",
       "        text-align: right;\n",
       "    }\n",
       "</style>\n",
       "<table border=\"1\" class=\"dataframe\">\n",
       "  <thead>\n",
       "    <tr style=\"text-align: right;\">\n",
       "      <th></th>\n",
       "      <th>Elevation</th>\n",
       "      <th>Aspect</th>\n",
       "      <th>Slope</th>\n",
       "      <th>Horizontal_Distance_To_Roadways</th>\n",
       "      <th>Hillshade_9am</th>\n",
       "      <th>Hillshade_Noon</th>\n",
       "      <th>Hillshade_3pm</th>\n",
       "      <th>Horizontal_Distance_To_Fire_Points</th>\n",
       "      <th>Cover_Type</th>\n",
       "      <th>Soil_Type</th>\n",
       "      <th>Wilderness</th>\n",
       "      <th>Distance_To_Hydrology</th>\n",
       "    </tr>\n",
       "  </thead>\n",
       "  <tbody>\n",
       "    <tr>\n",
       "      <th>count</th>\n",
       "      <td>581012.000000</td>\n",
       "      <td>581012.000000</td>\n",
       "      <td>581012.000000</td>\n",
       "      <td>581012.000000</td>\n",
       "      <td>581012.000000</td>\n",
       "      <td>581012.000000</td>\n",
       "      <td>581012.000000</td>\n",
       "      <td>581012.000000</td>\n",
       "      <td>581012.000000</td>\n",
       "      <td>581012.000000</td>\n",
       "      <td>581012.000000</td>\n",
       "      <td>581012.000000</td>\n",
       "    </tr>\n",
       "    <tr>\n",
       "      <th>mean</th>\n",
       "      <td>2959.365301</td>\n",
       "      <td>155.656807</td>\n",
       "      <td>14.103704</td>\n",
       "      <td>2350.146611</td>\n",
       "      <td>212.146049</td>\n",
       "      <td>223.318716</td>\n",
       "      <td>142.528263</td>\n",
       "      <td>1980.291226</td>\n",
       "      <td>2.051471</td>\n",
       "      <td>24.362443</td>\n",
       "      <td>2.114462</td>\n",
       "      <td>275.659184</td>\n",
       "    </tr>\n",
       "    <tr>\n",
       "      <th>std</th>\n",
       "      <td>279.984734</td>\n",
       "      <td>111.913721</td>\n",
       "      <td>7.488242</td>\n",
       "      <td>1559.254870</td>\n",
       "      <td>26.769889</td>\n",
       "      <td>19.768697</td>\n",
       "      <td>38.274529</td>\n",
       "      <td>1324.195210</td>\n",
       "      <td>1.396504</td>\n",
       "      <td>9.485405</td>\n",
       "      <td>1.061295</td>\n",
       "      <td>216.989552</td>\n",
       "    </tr>\n",
       "    <tr>\n",
       "      <th>min</th>\n",
       "      <td>1859.000000</td>\n",
       "      <td>0.000000</td>\n",
       "      <td>0.000000</td>\n",
       "      <td>0.000000</td>\n",
       "      <td>0.000000</td>\n",
       "      <td>0.000000</td>\n",
       "      <td>0.000000</td>\n",
       "      <td>0.000000</td>\n",
       "      <td>1.000000</td>\n",
       "      <td>1.000000</td>\n",
       "      <td>1.000000</td>\n",
       "      <td>0.000000</td>\n",
       "    </tr>\n",
       "    <tr>\n",
       "      <th>25%</th>\n",
       "      <td>2809.000000</td>\n",
       "      <td>58.000000</td>\n",
       "      <td>9.000000</td>\n",
       "      <td>1106.000000</td>\n",
       "      <td>198.000000</td>\n",
       "      <td>213.000000</td>\n",
       "      <td>119.000000</td>\n",
       "      <td>1024.000000</td>\n",
       "      <td>1.000000</td>\n",
       "      <td>20.000000</td>\n",
       "      <td>1.000000</td>\n",
       "      <td>108.000000</td>\n",
       "    </tr>\n",
       "    <tr>\n",
       "      <th>50%</th>\n",
       "      <td>2996.000000</td>\n",
       "      <td>127.000000</td>\n",
       "      <td>13.000000</td>\n",
       "      <td>1997.000000</td>\n",
       "      <td>218.000000</td>\n",
       "      <td>226.000000</td>\n",
       "      <td>143.000000</td>\n",
       "      <td>1710.000000</td>\n",
       "      <td>2.000000</td>\n",
       "      <td>29.000000</td>\n",
       "      <td>2.000000</td>\n",
       "      <td>229.000000</td>\n",
       "    </tr>\n",
       "    <tr>\n",
       "      <th>75%</th>\n",
       "      <td>3163.000000</td>\n",
       "      <td>260.000000</td>\n",
       "      <td>18.000000</td>\n",
       "      <td>3328.000000</td>\n",
       "      <td>231.000000</td>\n",
       "      <td>237.000000</td>\n",
       "      <td>168.000000</td>\n",
       "      <td>2550.000000</td>\n",
       "      <td>2.000000</td>\n",
       "      <td>31.000000</td>\n",
       "      <td>3.000000</td>\n",
       "      <td>393.000000</td>\n",
       "    </tr>\n",
       "    <tr>\n",
       "      <th>max</th>\n",
       "      <td>3858.000000</td>\n",
       "      <td>360.000000</td>\n",
       "      <td>66.000000</td>\n",
       "      <td>7117.000000</td>\n",
       "      <td>254.000000</td>\n",
       "      <td>254.000000</td>\n",
       "      <td>254.000000</td>\n",
       "      <td>7173.000000</td>\n",
       "      <td>7.000000</td>\n",
       "      <td>40.000000</td>\n",
       "      <td>4.000000</td>\n",
       "      <td>1418.000000</td>\n",
       "    </tr>\n",
       "  </tbody>\n",
       "</table>\n",
       "</div>"
      ],
      "text/plain": [
       "           Elevation         Aspect          Slope  \\\n",
       "count  581012.000000  581012.000000  581012.000000   \n",
       "mean     2959.365301     155.656807      14.103704   \n",
       "std       279.984734     111.913721       7.488242   \n",
       "min      1859.000000       0.000000       0.000000   \n",
       "25%      2809.000000      58.000000       9.000000   \n",
       "50%      2996.000000     127.000000      13.000000   \n",
       "75%      3163.000000     260.000000      18.000000   \n",
       "max      3858.000000     360.000000      66.000000   \n",
       "\n",
       "       Horizontal_Distance_To_Roadways  Hillshade_9am  Hillshade_Noon  \\\n",
       "count                    581012.000000  581012.000000   581012.000000   \n",
       "mean                       2350.146611     212.146049      223.318716   \n",
       "std                        1559.254870      26.769889       19.768697   \n",
       "min                           0.000000       0.000000        0.000000   \n",
       "25%                        1106.000000     198.000000      213.000000   \n",
       "50%                        1997.000000     218.000000      226.000000   \n",
       "75%                        3328.000000     231.000000      237.000000   \n",
       "max                        7117.000000     254.000000      254.000000   \n",
       "\n",
       "       Hillshade_3pm  Horizontal_Distance_To_Fire_Points     Cover_Type  \\\n",
       "count  581012.000000                       581012.000000  581012.000000   \n",
       "mean      142.528263                         1980.291226       2.051471   \n",
       "std        38.274529                         1324.195210       1.396504   \n",
       "min         0.000000                            0.000000       1.000000   \n",
       "25%       119.000000                         1024.000000       1.000000   \n",
       "50%       143.000000                         1710.000000       2.000000   \n",
       "75%       168.000000                         2550.000000       2.000000   \n",
       "max       254.000000                         7173.000000       7.000000   \n",
       "\n",
       "           Soil_Type     Wilderness  Distance_To_Hydrology  \n",
       "count  581012.000000  581012.000000          581012.000000  \n",
       "mean       24.362443       2.114462             275.659184  \n",
       "std         9.485405       1.061295             216.989552  \n",
       "min         1.000000       1.000000               0.000000  \n",
       "25%        20.000000       1.000000             108.000000  \n",
       "50%        29.000000       2.000000             229.000000  \n",
       "75%        31.000000       3.000000             393.000000  \n",
       "max        40.000000       4.000000            1418.000000  "
      ]
     },
     "execution_count": 10,
     "metadata": {},
     "output_type": "execute_result"
    }
   ],
   "source": [
    "optimized_data.describe()"
   ]
  },
  {
   "cell_type": "markdown",
   "metadata": {},
   "source": [
    "Для удобства переставим столбец Cover_Type:"
   ]
  },
  {
   "cell_type": "code",
   "execution_count": 11,
   "metadata": {},
   "outputs": [],
   "source": [
    "optimized_data = optimized_data.drop(['Cover_Type'], axis = 1)\n",
    "optimized_data['Cover_Type'] = data['Cover_Type']"
   ]
  },
  {
   "cell_type": "markdown",
   "metadata": {},
   "source": [
    "Осталось нормализовать данные"
   ]
  },
  {
   "cell_type": "code",
   "execution_count": 12,
   "metadata": {},
   "outputs": [],
   "source": [
    "from sklearn.preprocessing import MinMaxScaler\n",
    "mm_scaler = MinMaxScaler()\n",
    "optimized_normalized_data = optimized_data\n",
    "t = mm_scaler.fit_transform(optimized_data[['Elevation', 'Aspect', 'Slope', 'Distance_To_Hydrology', 'Horizontal_Distance_To_Roadways', 'Hillshade_9am', 'Hillshade_Noon', 'Hillshade_3pm', 'Horizontal_Distance_To_Fire_Points', 'Soil_Type', 'Wilderness']])\n",
    "optimized_normalized_data[['Elevation', 'Aspect', 'Slope', 'Distance_To_Hydrology', 'Horizontal_Distance_To_Roadways', 'Hillshade_9am', 'Hillshade_Noon', 'Hillshade_3pm', 'Horizontal_Distance_To_Fire_Points', 'Soil_Type', 'Wilderness']] = t"
   ]
  },
  {
   "cell_type": "code",
   "execution_count": 13,
   "metadata": {},
   "outputs": [
    {
     "data": {
      "text/html": [
       "<div>\n",
       "<style scoped>\n",
       "    .dataframe tbody tr th:only-of-type {\n",
       "        vertical-align: middle;\n",
       "    }\n",
       "\n",
       "    .dataframe tbody tr th {\n",
       "        vertical-align: top;\n",
       "    }\n",
       "\n",
       "    .dataframe thead th {\n",
       "        text-align: right;\n",
       "    }\n",
       "</style>\n",
       "<table border=\"1\" class=\"dataframe\">\n",
       "  <thead>\n",
       "    <tr style=\"text-align: right;\">\n",
       "      <th></th>\n",
       "      <th>Elevation</th>\n",
       "      <th>Aspect</th>\n",
       "      <th>Slope</th>\n",
       "      <th>Horizontal_Distance_To_Roadways</th>\n",
       "      <th>Hillshade_9am</th>\n",
       "      <th>Hillshade_Noon</th>\n",
       "      <th>Hillshade_3pm</th>\n",
       "      <th>Horizontal_Distance_To_Fire_Points</th>\n",
       "      <th>Soil_Type</th>\n",
       "      <th>Wilderness</th>\n",
       "      <th>Distance_To_Hydrology</th>\n",
       "      <th>Cover_Type</th>\n",
       "    </tr>\n",
       "  </thead>\n",
       "  <tbody>\n",
       "    <tr>\n",
       "      <th>count</th>\n",
       "      <td>581012.000000</td>\n",
       "      <td>581012.000000</td>\n",
       "      <td>581012.000000</td>\n",
       "      <td>581012.000000</td>\n",
       "      <td>581012.000000</td>\n",
       "      <td>581012.000000</td>\n",
       "      <td>581012.000000</td>\n",
       "      <td>581012.000000</td>\n",
       "      <td>581012.000000</td>\n",
       "      <td>581012.000000</td>\n",
       "      <td>581012.000000</td>\n",
       "      <td>581012.000000</td>\n",
       "    </tr>\n",
       "    <tr>\n",
       "      <th>mean</th>\n",
       "      <td>0.550458</td>\n",
       "      <td>0.432380</td>\n",
       "      <td>0.213692</td>\n",
       "      <td>0.330216</td>\n",
       "      <td>0.835221</td>\n",
       "      <td>0.879208</td>\n",
       "      <td>0.561135</td>\n",
       "      <td>0.276076</td>\n",
       "      <td>0.599037</td>\n",
       "      <td>0.371487</td>\n",
       "      <td>0.194400</td>\n",
       "      <td>2.051471</td>\n",
       "    </tr>\n",
       "    <tr>\n",
       "      <th>std</th>\n",
       "      <td>0.140062</td>\n",
       "      <td>0.310871</td>\n",
       "      <td>0.113458</td>\n",
       "      <td>0.219089</td>\n",
       "      <td>0.105393</td>\n",
       "      <td>0.077830</td>\n",
       "      <td>0.150687</td>\n",
       "      <td>0.184608</td>\n",
       "      <td>0.243216</td>\n",
       "      <td>0.353765</td>\n",
       "      <td>0.153025</td>\n",
       "      <td>1.396504</td>\n",
       "    </tr>\n",
       "    <tr>\n",
       "      <th>min</th>\n",
       "      <td>0.000000</td>\n",
       "      <td>0.000000</td>\n",
       "      <td>0.000000</td>\n",
       "      <td>0.000000</td>\n",
       "      <td>0.000000</td>\n",
       "      <td>0.000000</td>\n",
       "      <td>0.000000</td>\n",
       "      <td>0.000000</td>\n",
       "      <td>0.000000</td>\n",
       "      <td>0.000000</td>\n",
       "      <td>0.000000</td>\n",
       "      <td>1.000000</td>\n",
       "    </tr>\n",
       "    <tr>\n",
       "      <th>25%</th>\n",
       "      <td>0.475238</td>\n",
       "      <td>0.161111</td>\n",
       "      <td>0.136364</td>\n",
       "      <td>0.155403</td>\n",
       "      <td>0.779528</td>\n",
       "      <td>0.838583</td>\n",
       "      <td>0.468504</td>\n",
       "      <td>0.142758</td>\n",
       "      <td>0.487179</td>\n",
       "      <td>0.000000</td>\n",
       "      <td>0.076164</td>\n",
       "      <td>1.000000</td>\n",
       "    </tr>\n",
       "    <tr>\n",
       "      <th>50%</th>\n",
       "      <td>0.568784</td>\n",
       "      <td>0.352778</td>\n",
       "      <td>0.196970</td>\n",
       "      <td>0.280596</td>\n",
       "      <td>0.858268</td>\n",
       "      <td>0.889764</td>\n",
       "      <td>0.562992</td>\n",
       "      <td>0.238394</td>\n",
       "      <td>0.717949</td>\n",
       "      <td>0.333333</td>\n",
       "      <td>0.161495</td>\n",
       "      <td>2.000000</td>\n",
       "    </tr>\n",
       "    <tr>\n",
       "      <th>75%</th>\n",
       "      <td>0.652326</td>\n",
       "      <td>0.722222</td>\n",
       "      <td>0.272727</td>\n",
       "      <td>0.467613</td>\n",
       "      <td>0.909449</td>\n",
       "      <td>0.933071</td>\n",
       "      <td>0.661417</td>\n",
       "      <td>0.355500</td>\n",
       "      <td>0.769231</td>\n",
       "      <td>0.666667</td>\n",
       "      <td>0.277151</td>\n",
       "      <td>2.000000</td>\n",
       "    </tr>\n",
       "    <tr>\n",
       "      <th>max</th>\n",
       "      <td>1.000000</td>\n",
       "      <td>1.000000</td>\n",
       "      <td>1.000000</td>\n",
       "      <td>1.000000</td>\n",
       "      <td>1.000000</td>\n",
       "      <td>1.000000</td>\n",
       "      <td>1.000000</td>\n",
       "      <td>1.000000</td>\n",
       "      <td>1.000000</td>\n",
       "      <td>1.000000</td>\n",
       "      <td>1.000000</td>\n",
       "      <td>7.000000</td>\n",
       "    </tr>\n",
       "  </tbody>\n",
       "</table>\n",
       "</div>"
      ],
      "text/plain": [
       "           Elevation         Aspect          Slope  \\\n",
       "count  581012.000000  581012.000000  581012.000000   \n",
       "mean        0.550458       0.432380       0.213692   \n",
       "std         0.140062       0.310871       0.113458   \n",
       "min         0.000000       0.000000       0.000000   \n",
       "25%         0.475238       0.161111       0.136364   \n",
       "50%         0.568784       0.352778       0.196970   \n",
       "75%         0.652326       0.722222       0.272727   \n",
       "max         1.000000       1.000000       1.000000   \n",
       "\n",
       "       Horizontal_Distance_To_Roadways  Hillshade_9am  Hillshade_Noon  \\\n",
       "count                    581012.000000  581012.000000   581012.000000   \n",
       "mean                          0.330216       0.835221        0.879208   \n",
       "std                           0.219089       0.105393        0.077830   \n",
       "min                           0.000000       0.000000        0.000000   \n",
       "25%                           0.155403       0.779528        0.838583   \n",
       "50%                           0.280596       0.858268        0.889764   \n",
       "75%                           0.467613       0.909449        0.933071   \n",
       "max                           1.000000       1.000000        1.000000   \n",
       "\n",
       "       Hillshade_3pm  Horizontal_Distance_To_Fire_Points      Soil_Type  \\\n",
       "count  581012.000000                       581012.000000  581012.000000   \n",
       "mean        0.561135                            0.276076       0.599037   \n",
       "std         0.150687                            0.184608       0.243216   \n",
       "min         0.000000                            0.000000       0.000000   \n",
       "25%         0.468504                            0.142758       0.487179   \n",
       "50%         0.562992                            0.238394       0.717949   \n",
       "75%         0.661417                            0.355500       0.769231   \n",
       "max         1.000000                            1.000000       1.000000   \n",
       "\n",
       "          Wilderness  Distance_To_Hydrology     Cover_Type  \n",
       "count  581012.000000          581012.000000  581012.000000  \n",
       "mean        0.371487               0.194400       2.051471  \n",
       "std         0.353765               0.153025       1.396504  \n",
       "min         0.000000               0.000000       1.000000  \n",
       "25%         0.000000               0.076164       1.000000  \n",
       "50%         0.333333               0.161495       2.000000  \n",
       "75%         0.666667               0.277151       2.000000  \n",
       "max         1.000000               1.000000       7.000000  "
      ]
     },
     "execution_count": 13,
     "metadata": {},
     "output_type": "execute_result"
    }
   ],
   "source": [
    "optimized_normalized_data.describe()"
   ]
  },
  {
   "cell_type": "markdown",
   "metadata": {},
   "source": [
    "Применим метод главных компонент:"
   ]
  },
  {
   "cell_type": "code",
   "execution_count": 14,
   "metadata": {},
   "outputs": [
    {
     "name": "stdout",
     "output_type": "stream",
     "text": [
      "Elevation  ->  0.35923320578356327\n",
      "Aspect  ->  0.24161117635776394\n",
      "Slope  ->  0.13196496267661362\n",
      "Horizontal_Distance_To_Roadways  ->  0.07775059878236584\n",
      "Hillshade_9am  ->  0.05467847786153076\n",
      "Hillshade_Noon  ->  0.04508788960875242\n",
      "Hillshade_3pm  ->  0.03840265490564868\n",
      "Horizontal_Distance_To_Fire_Points  ->  0.029472342144870257\n",
      "Soil_Type  ->  0.01484988590272334\n",
      "Wilderness  ->  0.006852414718734682\n",
      "Distance_To_Hydrology  ->  9.639125743315585e-05\n"
     ]
    }
   ],
   "source": [
    "from sklearn.decomposition import PCA\n",
    "X = optimized_normalized_data.drop(['Cover_Type'], axis=1)\n",
    "pca = PCA(n_components=len(X.columns))\n",
    "pca.fit(X)\n",
    "for index, ratio in enumerate(pca.explained_variance_ratio_):\n",
    "    print(X.columns[index], ' -> ', ratio)"
   ]
  },
  {
   "cell_type": "markdown",
   "metadata": {},
   "source": []
  },
  {
   "cell_type": "code",
   "execution_count": 15,
   "metadata": {},
   "outputs": [
    {
     "name": "stdout",
     "output_type": "stream",
     "text": [
      "Cover_Type1 - 211840 ~ 36.46%\n",
      "Cover_Type2 - 283301 ~ 48.76%\n",
      "Cover_Type3 - 35754 ~ 6.15%\n",
      "Cover_Type4 - 2747 ~ 0.47%\n",
      "Cover_Type5 - 9493 ~ 1.63%\n",
      "Cover_Type6 - 17367 ~ 2.99%\n",
      "Cover_Type7 - 20510 ~ 3.53%\n"
     ]
    },
    {
     "data": {
      "image/png": "[encoded data removed]",
      "text/plain": [
       "<Figure size 432x288 with 1 Axes>"
      ]
     },
     "metadata": {
      "needs_background": "light"
     },
     "output_type": "display_data"
    }
   ],
   "source": [
    "cover_type_values = data.Cover_Type.value_counts(sort=False)\n",
    "pyplot.bar([\"Type {}\".format(i) for i in range(1, 8)], cover_type_values)\n",
    "for index, value in enumerate(cover_type_values):\n",
    "    print(\"Cover_Type{} - {} ~ {}%\".format(index+1, value, \"%.2f\" % (value / len(data) * 100)))"
   ]
  },
  {
   "cell_type": "code",
   "execution_count": 16,
   "metadata": {},
   "outputs": [
    {
     "data": {
      "text/plain": [
       "Elevation                              -0.817596\n",
       "Aspect                                  0.402628\n",
       "Slope                                   0.789273\n",
       "Horizontal_Distance_To_Hydrology        1.140437\n",
       "Vertical_Distance_To_Hydrology          1.790250\n",
       "Horizontal_Distance_To_Roadways         0.713679\n",
       "Hillshade_9am                          -1.181147\n",
       "Hillshade_Noon                         -1.063056\n",
       "Hillshade_3pm                          -0.277053\n",
       "Horizontal_Distance_To_Fire_Points      1.288644\n",
       "Wilderness_Area1                        0.205618\n",
       "Wilderness_Area2                        4.061595\n",
       "Wilderness_Area3                        0.257822\n",
       "Wilderness_Area4                        3.575561\n",
       "Soil_Type1                             13.736670\n",
       "Soil_Type2                              8.615358\n",
       "Soil_Type3                             10.838630\n",
       "Soil_Type4                              6.625176\n",
       "Soil_Type5                             18.995243\n",
       "Soil_Type6                              9.240061\n",
       "Soil_Type7                             74.367173\n",
       "Soil_Type8                             56.946415\n",
       "Soil_Type9                             22.440005\n",
       "Soil_Type10                             3.855317\n",
       "Soil_Type11                             6.621186\n",
       "Soil_Type12                             4.054662\n",
       "Soil_Type13                             5.510281\n",
       "Soil_Type14                            31.096237\n",
       "Soil_Type15                           440.078023\n",
       "Soil_Type16                            14.185489\n",
       "Soil_Type17                            12.914877\n",
       "Soil_Type18                            17.405794\n",
       "Soil_Type19                            11.895466\n",
       "Soil_Type20                             7.730948\n",
       "Soil_Type21                            26.274260\n",
       "Soil_Type22                             3.804032\n",
       "Soil_Type23                             2.677848\n",
       "Soil_Type24                             4.933954\n",
       "Soil_Type25                            34.968140\n",
       "Soil_Type26                            14.880229\n",
       "Soil_Type27                            23.065265\n",
       "Soil_Type28                            24.722103\n",
       "Soil_Type29                             1.512910\n",
       "Soil_Type30                             4.038910\n",
       "Soil_Type31                             4.436636\n",
       "Soil_Type32                             2.856975\n",
       "Soil_Type33                             3.154625\n",
       "Soil_Type34                            18.911839\n",
       "Soil_Type35                            17.442936\n",
       "Soil_Type36                            69.853269\n",
       "Soil_Type37                            44.121596\n",
       "Soil_Type38                             5.859748\n",
       "Soil_Type39                             6.253684\n",
       "Soil_Type40                             7.963478\n",
       "Cover_Type                              2.276574\n",
       "dtype: float64"
      ]
     },
     "execution_count": 16,
     "metadata": {},
     "output_type": "execute_result"
    },
    {
     "data": {
      "image/png": "[encoded data removed]",
      "text/plain": [
       "<Figure size 432x288 with 1 Axes>"
      ]
     },
     "metadata": {
      "needs_background": "light"
     },
     "output_type": "display_data"
    }
   ],
   "source": [
    "pyplot.grid(True)\n",
    "pyplot.bar(range(len(data.columns)), data.skew())\n",
    "data.skew()"
   ]
  },
  {
   "cell_type": "code",
   "execution_count": 17,
   "metadata": {},
   "outputs": [],
   "source": [
    "# soil_data = [data[col_name].value_counts() for col_name in data.loc[:, \"Soil_Type1\" : \"Soil_Type40\"]]\n",
    "# for soil_type, soil_num in enumerate(soil_data):\n",
    "#     print(\"Soil_Type{}\".format(soil_type + 1), soil_num[1])\n",
    "# plt.grid(True)\n",
    "# plt.bar(range(1, 41), [number[1] for _, number in enumerate(soil_data)])\n",
    "# plt.show()"
   ]
  },
  {
   "cell_type": "code",
   "execution_count": 18,
   "metadata": {},
   "outputs": [],
   "source": [
    "# barrier = 1000\n",
    "# bad_soil_data = list(filter(lambda x: x[1] < barrier, soil_data))\n",
    "# print(bad_soil_data)"
   ]
  },
  {
   "cell_type": "code",
   "execution_count": 19,
   "metadata": {},
   "outputs": [],
   "source": [
    "# train = train.drop(['Soil_Type7', 'Soil_Type8', 'Soil_Type14', 'Soil_Type15', 'Soil_Type21', 'Soil_Type25', 'Soil_Type28', 'Soil_Type36', 'Soil_Type37'], axis = 1)\n",
    "# train.info()"
   ]
  },
  {
   "cell_type": "code",
   "execution_count": null,
   "metadata": {},
   "outputs": [],
   "source": []
  },
  {
   "cell_type": "code",
   "execution_count": null,
   "metadata": {},
   "outputs": [],
   "source": []
  },
  {
   "cell_type": "code",
   "execution_count": null,
   "metadata": {},
   "outputs": [],
   "source": []
  },
  {
   "cell_type": "code",
   "execution_count": null,
   "metadata": {},
   "outputs": [],
   "source": []
  },
  {
   "cell_type": "code",
   "execution_count": null,
   "metadata": {},
   "outputs": [],
   "source": []
  },
  {
   "cell_type": "code",
   "execution_count": null,
   "metadata": {},
   "outputs": [],
   "source": []
  },
  {
   "cell_type": "code",
   "execution_count": null,
   "metadata": {},
   "outputs": [],
   "source": []
  },
  {
   "cell_type": "code",
   "execution_count": 20,
   "metadata": {},
   "outputs": [],
   "source": [
    "from sklearn.model_selection import train_test_split\n",
    "\n",
    "target = optimized_normalized_data.Cover_Type\n",
    "train = optimized_normalized_data.drop(['Cover_Type'], axis = 1)\n",
    "models_results = dict()\n",
    "\n",
    "x_train, x_test, y_train, y_test = train_test_split(train, target, test_size=0.25, random_state=16)"
   ]
  },
  {
   "cell_type": "code",
   "execution_count": null,
   "metadata": {},
   "outputs": [],
   "source": []
  },
  {
   "cell_type": "code",
   "execution_count": null,
   "metadata": {},
   "outputs": [],
   "source": []
  },
  {
   "cell_type": "code",
   "execution_count": null,
   "metadata": {},
   "outputs": [],
   "source": []
  },
  {
   "cell_type": "code",
   "execution_count": 21,
   "metadata": {},
   "outputs": [],
   "source": [
    "from sklearn.ensemble import ExtraTreesClassifier\n",
    "\n",
    "extraTreesClassifier_estimators = []\n",
    "extraTreesClassifier_results = []\n",
    "# estimators = 260\n",
    "for estimators in range(10, 201, 10):\n",
    "    trees = ExtraTreesClassifier(n_estimators = estimators, max_features=10)\n",
    "\n",
    "#     start_time = time.time()\n",
    "    trees.fit(x_train, y_train)\n",
    "#     print(\"ExtraTreesClassifier{} train time = {} seconds\".format(estimators, time.time() - start_time))\n",
    "\n",
    "#     start_time = time.time()\n",
    "    trees_result = trees.predict(x_test)\n",
    "#     print(\"ExtraTreesClassifier{} predict time = {} seconds\".format(estimators, time.time() - start_time))\n",
    "\n",
    "#     start_time = time.time()\n",
    "    extraTreesClassifier_accuracy = accuracy_score(y_test, trees_result)\n",
    "#     print(\"ExtraTreesClassifier{} accuracy time = {} seconds\".format(estimators, time.time() - start_time))\n",
    "#     print(\"ExtraTreesClassifier{} accuracy: \\n\".format(estimators), extraTreesClassifier_accuracy)\n",
    "\n",
    "    extraTreesClassifier_results.append(extraTreesClassifier_accuracy)\n",
    "    extraTreesClassifier_estimators.append(estimators)"
   ]
  },
  {
   "cell_type": "code",
   "execution_count": 22,
   "metadata": {},
   "outputs": [
    {
     "data": {
      "image/png": "[encoded data removed]",
      "text/plain": [
       "<Figure size 432x288 with 1 Axes>"
      ]
     },
     "metadata": {
      "needs_background": "light"
     },
     "output_type": "display_data"
    }
   ],
   "source": [
    "pyplot.grid(True)\n",
    "pyplot.plot(extraTreesClassifier_estimators, extraTreesClassifier_results, color=\"#FF0000\", label=\"accuracy by estimators number\")\n",
    "pyplot.show()"
   ]
  },
  {
   "cell_type": "code",
   "execution_count": 23,
   "metadata": {},
   "outputs": [
    {
     "name": "stdout",
     "output_type": "stream",
     "text": [
      "Best accuracy:  0.9718835411316806\n"
     ]
    }
   ],
   "source": [
    "print(\"Best accuracy: \", max(extraTreesClassifier_results))"
   ]
  },
  {
   "cell_type": "code",
   "execution_count": null,
   "metadata": {},
   "outputs": [],
   "source": []
  },
  {
   "cell_type": "code",
   "execution_count": null,
   "metadata": {},
   "outputs": [],
   "source": []
  },
  {
   "cell_type": "code",
   "execution_count": null,
   "metadata": {},
   "outputs": [],
   "source": []
  },
  {
   "cell_type": "code",
   "execution_count": 24,
   "metadata": {},
   "outputs": [],
   "source": [
    "from sklearn.neighbors import KNeighborsClassifier\n",
    "\n",
    "knn_neighbors = []\n",
    "knn_results = []\n",
    "neighbors = 5\n",
    "for neighbors in range(1, 51):\n",
    "    knn = KNeighborsClassifier(n_neighbors=neighbors)\n",
    "#     start_time = time.time()\n",
    "    knn.fit(x_train, y_train)\n",
    "#     print(\"KNeighborsClassifier{} train time = {} seconds\".format(neighbors, time.time() - start_time))\n",
    "\n",
    "#     start_time = time.time()\n",
    "    knn_predict_result = knn.predict(x_test)\n",
    "#     print(\"KNeighborsClassifier{} predict time = {} seconds\".format(neighbors, time.time() - start_time))\n",
    "\n",
    "#     start_time = time.time()\n",
    "    accuracy = accuracy_score(y_test, knn_predict_result)\n",
    "#     print(\"KNeighborsClassifier{} accuracy time = {} seconds\".format(neighbors, time.time() - start_time))\n",
    "#     print(\"KNeighborsClassifier{} accuracy\".format(neighbors), \": \", accuracy)\n",
    "\n",
    "    knn_neighbors.append(neighbors)\n",
    "    knn_results.append(accuracy)"
   ]
  },
  {
   "cell_type": "code",
   "execution_count": 25,
   "metadata": {},
   "outputs": [
    {
     "name": "stdout",
     "output_type": "stream",
     "text": [
      "Neighbors=1, accuracy=0.933949729093375\n",
      "Neighbors=2, accuracy=0.9224112410759158\n",
      "Neighbors=3, accuracy=0.9316847156341005\n",
      "Neighbors=4, accuracy=0.9250273660440749\n",
      "Neighbors=5, accuracy=0.9266590018794792\n",
      "Neighbors=6, accuracy=0.9224525483122552\n",
      "Neighbors=7, accuracy=0.9224181256153057\n",
      "Neighbors=8, accuracy=0.919340736508024\n",
      "Neighbors=9, accuracy=0.9179638286300456\n",
      "Neighbors=10, accuracy=0.9151067447832403\n",
      "Neighbors=11, accuracy=0.9134957625660055\n",
      "Neighbors=12, accuracy=0.9111550191734422\n",
      "Neighbors=13, accuracy=0.9100259547134999\n",
      "Neighbors=14, accuracy=0.9079192856601929\n",
      "Neighbors=15, accuracy=0.9068452975153697\n",
      "Neighbors=16, accuracy=0.9049658182619292\n",
      "Neighbors=17, accuracy=0.9040639436018533\n",
      "Neighbors=18, accuracy=0.9024460768452287\n",
      "Neighbors=19, accuracy=0.9007249419977557\n",
      "Neighbors=20, accuracy=0.8994650712894053\n",
      "Neighbors=21, accuracy=0.8976337838116941\n",
      "Neighbors=22, accuracy=0.8961604923822571\n",
      "Neighbors=23, accuracy=0.8944324729953942\n",
      "Neighbors=24, accuracy=0.8933653693899609\n",
      "Neighbors=25, accuracy=0.8920986141422208\n",
      "Neighbors=26, accuracy=0.8911416631670258\n",
      "Neighbors=27, accuracy=0.889661487198199\n",
      "Neighbors=28, accuracy=0.8889110724047008\n",
      "Neighbors=29, accuracy=0.887747585247809\n",
      "Neighbors=30, accuracy=0.8869007869028522\n",
      "Neighbors=31, accuracy=0.8857028770490111\n",
      "Neighbors=32, accuracy=0.884876732322224\n",
      "Neighbors=33, accuracy=0.8834585172079062\n",
      "Neighbors=34, accuracy=0.882577296166\n",
      "Neighbors=35, accuracy=0.8816685369665342\n",
      "Neighbors=36, accuracy=0.8807873159246281\n",
      "Neighbors=37, accuracy=0.8795549833738374\n",
      "Neighbors=38, accuracy=0.8790592965377652\n",
      "Neighbors=39, accuracy=0.8779371166172127\n",
      "Neighbors=40, accuracy=0.877214239981274\n",
      "Neighbors=41, accuracy=0.8764087488726566\n",
      "Neighbors=42, accuracy=0.8757478330912271\n",
      "Neighbors=43, accuracy=0.8749629956007793\n",
      "Neighbors=44, accuracy=0.8740817745588731\n",
      "Neighbors=45, accuracy=0.8731867844381872\n",
      "Neighbors=46, accuracy=0.8727461739172341\n",
      "Neighbors=47, accuracy=0.8716790703118008\n",
      "Neighbors=48, accuracy=0.8713279588029162\n",
      "Neighbors=49, accuracy=0.8704191996034505\n",
      "Neighbors=50, accuracy=0.8701025107915155\n"
     ]
    }
   ],
   "source": [
    "for index in range(len(knn_neighbors)):\n",
    "    print(\"Neighbors={}, accuracy={}\".format(knn_neighbors[index], knn_results[index]))"
   ]
  },
  {
   "cell_type": "code",
   "execution_count": 26,
   "metadata": {},
   "outputs": [
    {
     "data": {
      "image/png": "[encoded data removed]",
      "text/plain": [
       "<Figure size 432x288 with 1 Axes>"
      ]
     },
     "metadata": {
      "needs_background": "light"
     },
     "output_type": "display_data"
    }
   ],
   "source": [
    "pyplot.grid(True)\n",
    "pyplot.plot(knn_neighbors, knn_results, color=\"#FF0000\", label=\"accuracy by neighbors number\")\n",
    "pyplot.show()"
   ]
  },
  {
   "cell_type": "code",
   "execution_count": null,
   "metadata": {},
   "outputs": [],
   "source": []
  },
  {
   "cell_type": "code",
   "execution_count": null,
   "metadata": {},
   "outputs": [],
   "source": []
  },
  {
   "cell_type": "code",
   "execution_count": 27,
   "metadata": {
    "scrolled": true
   },
   "outputs": [
    {
     "name": "stdout",
     "output_type": "stream",
     "text": [
      "XGBClassifier train time = 63.58207178115845 seconds\n"
     ]
    }
   ],
   "source": [
    "import xgboost\n",
    "\n",
    "xgboost_model = xgboost.XGBClassifier()\n",
    "start_time = time.time()\n",
    "xgboost_model.fit(x_train, y_train)\n",
    "print(\"XGBClassifier train time = {} seconds\".format(time.time() - start_time))"
   ]
  },
  {
   "cell_type": "code",
   "execution_count": 28,
   "metadata": {},
   "outputs": [
    {
     "name": "stdout",
     "output_type": "stream",
     "text": [
      "XGBoost predict time = 0.9018187522888184 seconds\n",
      "XGBoost accuracy time = 0.008007287979125977 seconds\n",
      "XGBoost accuracy:  0.8681404170653962\n"
     ]
    }
   ],
   "source": [
    "start_time = time.time()\n",
    "xgboost_result = xgboost_model.predict(x_test)\n",
    "print(\"XGBoost predict time = {} seconds\".format(time.time() - start_time))\n",
    "\n",
    "start_time = time.time()\n",
    "xgboost_model_accuracy = accuracy_score(y_test, xgboost_result)\n",
    "print(\"XGBoost accuracy time = {} seconds\".format(time.time() - start_time))\n",
    "print(\"XGBoost accuracy: \", xgboost_model_accuracy)"
   ]
  },
  {
   "cell_type": "code",
   "execution_count": null,
   "metadata": {},
   "outputs": [],
   "source": []
  },
  {
   "cell_type": "code",
   "execution_count": null,
   "metadata": {},
   "outputs": [],
   "source": []
  },
  {
   "cell_type": "code",
   "execution_count": null,
   "metadata": {},
   "outputs": [],
   "source": []
  },
  {
   "cell_type": "code",
   "execution_count": 29,
   "metadata": {},
   "outputs": [],
   "source": [
    "from sklearn.ensemble import RandomForestClassifier\n",
    "\n",
    "\n",
    "randomForestClassifier_estimators = []\n",
    "randomForestClassifier_results = []\n",
    "for estimators in range(10, 201, 10):\n",
    "    randomForestClassifier = RandomForestClassifier(n_estimators = estimators, max_features=10)\n",
    "#     start_time = time.time()\n",
    "    randomForestClassifier.fit(x_train, y_train)\n",
    "#     print(\"RandomForestClassifier train time = {} seconds\".format(time.time() - start_time))\n",
    "\n",
    "#     start_time = time.time()\n",
    "    randomForest_result = randomForestClassifier.predict(x_test)\n",
    "#     print(\"RandomForestClassifier predict time = {} seconds\".format(time.time() - start_time))\n",
    "\n",
    "#     start_time = time.time()\n",
    "    randomForest_accuracy = accuracy_score(y_test, randomForest_result)\n",
    "#     print(\"RandomForestClassifier accuracy time = {} seconds\".format(time.time() - start_time))\n",
    "#     print(\"RandomForestClassifier accuracy: \", randomForest_accuracy)\n",
    "    \n",
    "    randomForestClassifier_estimators.append(estimators)\n",
    "    randomForestClassifier_results.append(randomForest_accuracy)"
   ]
  },
  {
   "cell_type": "code",
   "execution_count": 30,
   "metadata": {},
   "outputs": [
    {
     "data": {
      "image/png": "[encoded data removed]",
      "text/plain": [
       "<Figure size 432x288 with 1 Axes>"
      ]
     },
     "metadata": {
      "needs_background": "light"
     },
     "output_type": "display_data"
    }
   ],
   "source": [
    "pyplot.grid(True)\n",
    "pyplot.plot(randomForestClassifier_estimators, randomForestClassifier_results, color=\"#FF0000\", label=\"accuracy by estimators number\")\n",
    "pyplot.show()"
   ]
  },
  {
   "cell_type": "code",
   "execution_count": 31,
   "metadata": {},
   "outputs": [
    {
     "name": "stdout",
     "output_type": "stream",
     "text": [
      "Best accuracy:  0.9665686767226839\n"
     ]
    }
   ],
   "source": [
    "print(\"Best accuracy: \", max(randomForestClassifier_results))"
   ]
  },
  {
   "cell_type": "code",
   "execution_count": null,
   "metadata": {},
   "outputs": [],
   "source": []
  },
  {
   "cell_type": "code",
   "execution_count": null,
   "metadata": {},
   "outputs": [],
   "source": []
  },
  {
   "cell_type": "code",
   "execution_count": 32,
   "metadata": {},
   "outputs": [],
   "source": [
    "# from sklearn.svm import SVC\n",
    "\n",
    "# svclassifier = SVC(kernel='linear')\n",
    "# start_time = time.time()\n",
    "# svclassifier.fit(x_train, y_train)\n",
    "# print(\"SVC linear train time = {} seconds\".format(time.time() - start_time))"
   ]
  },
  {
   "cell_type": "code",
   "execution_count": 33,
   "metadata": {},
   "outputs": [],
   "source": [
    "# start_time = time.time()\n",
    "# print(\"SVC accuracy: \", accuracy_score(y_test, [round(item) for item in svclassifier.predict(x_test)]))\n",
    "# print(\"SVC accuracy time = {} seconds\".format(time.time() - start_time))"
   ]
  },
  {
   "cell_type": "code",
   "execution_count": 34,
   "metadata": {},
   "outputs": [],
   "source": [
    "# start_time = time.time()\n",
    "# print(\"SVC score: \", svclassifier.score(x_test, y_test))\n",
    "# print(\"SVC score time = {} seconds\".format(time.time() - start_time))"
   ]
  },
  {
   "cell_type": "code",
   "execution_count": null,
   "metadata": {},
   "outputs": [],
   "source": []
  },
  {
   "cell_type": "code",
   "execution_count": null,
   "metadata": {},
   "outputs": [],
   "source": []
  },
  {
   "cell_type": "code",
   "execution_count": 35,
   "metadata": {},
   "outputs": [],
   "source": [
    "# data.corr()"
   ]
  },
  {
   "cell_type": "code",
   "execution_count": 36,
   "metadata": {},
   "outputs": [],
   "source": [
    "# corr_data = data.corr()\n",
    "# for coll in corr_data.columns:\n",
    "#     print(coll, \":\")\n",
    "#     coll_data = corr_data[coll].values\n",
    "#     print(list(filter(lambda x: fabs(x) > 0.6, coll_data)))"
   ]
  },
  {
   "cell_type": "code",
   "execution_count": 37,
   "metadata": {},
   "outputs": [],
   "source": [
    "# All correlations (pearson):\n",
    "\n",
    "# Wilderness_Area4 ~ Elevation, \n",
    "# Aspect ~ Hillshade_3pm,\n",
    "# Horizontal_Distance_To_Hydrology ~ Vertical_Distance_To_Hydrology,\n",
    "# Hillshade_9am ~ Hillshade_3pm,\n",
    "# Wilderness_Area1 ~ Wilderness_Area3"
   ]
  },
  {
   "cell_type": "code",
   "execution_count": null,
   "metadata": {},
   "outputs": [],
   "source": []
  },
  {
   "cell_type": "code",
   "execution_count": 38,
   "metadata": {},
   "outputs": [],
   "source": [
    "# corr_data = data.corr(method='spearman')\n",
    "# for coll in corr_data.columns:\n",
    "#     print(coll, \":\")\n",
    "#     coll_data = corr_data[coll].values\n",
    "#     print(list(filter(lambda x: fabs(x) > 0.6, coll_data)))"
   ]
  },
  {
   "cell_type": "code",
   "execution_count": 39,
   "metadata": {},
   "outputs": [],
   "source": [
    "# - Wilderness_Area4 ~ Elevation"
   ]
  },
  {
   "cell_type": "code",
   "execution_count": 40,
   "metadata": {},
   "outputs": [],
   "source": [
    "# corr_data = data.corr(method='kendall')\n",
    "# for coll in corr_data.columns:\n",
    "#     print(coll, \":\")\n",
    "#     coll_data = corr_data[coll].values\n",
    "#     print(list(filter(lambda x: fabs(x) > 0.6, coll_data)))"
   ]
  },
  {
   "cell_type": "code",
   "execution_count": 41,
   "metadata": {},
   "outputs": [],
   "source": [
    "# - Wilderness_Area4 ~ Elevation, \n",
    "# - Aspect ~ Hillshade_3pm,\n",
    "# - Horizontal_Distance_To_Hydrology ~ Vertical_Distance_To_Hydrology"
   ]
  },
  {
   "cell_type": "code",
   "execution_count": null,
   "metadata": {},
   "outputs": [],
   "source": []
  },
  {
   "cell_type": "code",
   "execution_count": 42,
   "metadata": {},
   "outputs": [],
   "source": [
    "# train = data.drop(['Cover_Type', 'Hillshade_3pm', 'Soil_Type7', 'Soil_Type8', 'Soil_Type14', 'Soil_Type15', 'Soil_Type21', 'Soil_Type25', 'Soil_Type28', 'Soil_Type36', 'Soil_Type37'], axis = 1)\n",
    "# train.info()"
   ]
  },
  {
   "cell_type": "code",
   "execution_count": 43,
   "metadata": {},
   "outputs": [],
   "source": [
    "# x_train, x_test, y_train, y_test = train_test_split(train, target, test_size=0.25, random_state=16)"
   ]
  },
  {
   "cell_type": "code",
   "execution_count": 44,
   "metadata": {},
   "outputs": [],
   "source": [
    "# from sklearn.neighbors import KNeighborsClassifier\n",
    "\n",
    "# knn_neighbors = []\n",
    "# knn_results = []\n",
    "# neighbors = 5\n",
    "# # for neighbors in range(1, 51):\n",
    "# knn_neighbors.append(neighbors)\n",
    "# knn = KNeighborsClassifier(n_neighbors=neighbors)\n",
    "# start_time = time.time()\n",
    "# knn.fit(x_train, y_train)\n",
    "# print(\"KNeighborsClassifier{} train time = {} seconds\".format(neighbors, time.time() - start_time))\n",
    "\n",
    "# start_time = time.time()\n",
    "# knn_predict_result = knn.predict(x_test)\n",
    "# print(\"KNeighborsClassifier{} predict time = {} seconds\".format(neighbors, time.time() - start_time))\n",
    "\n",
    "# start_time = time.time()\n",
    "# accuracy = accuracy_score(y_test, knn_predict_result)\n",
    "# print(\"KNeighborsClassifier{} accuracy time = {} seconds\".format(neighbors, time.time() - start_time))\n",
    "# print(\"KNeighborsClassifier{} accuracy\".format(neighbors), \": \", accuracy)\n",
    "\n",
    "# knn_results.append(accuracy)"
   ]
  },
  {
   "cell_type": "code",
   "execution_count": 45,
   "metadata": {},
   "outputs": [
    {
     "name": "stdout",
     "output_type": "stream",
     "text": [
      "        Elevation  Aspect  Slope  Horizontal_Distance_To_Hydrology  \\\n",
      "0            2596      51      3                               258   \n",
      "1            2590      56      2                               212   \n",
      "2            2804     139      9                               268   \n",
      "3            2785     155     18                               242   \n",
      "4            2595      45      2                               153   \n",
      "...           ...     ...    ...                               ...   \n",
      "581007       2396     153     20                                85   \n",
      "581008       2391     152     19                                67   \n",
      "581009       2386     159     17                                60   \n",
      "581010       2384     170     15                                60   \n",
      "581011       2383     165     13                                60   \n",
      "\n",
      "        Vertical_Distance_To_Hydrology  Horizontal_Distance_To_Roadways  \\\n",
      "0                                    0                              510   \n",
      "1                                   -6                              390   \n",
      "2                                   65                             3180   \n",
      "3                                  118                             3090   \n",
      "4                                   -1                              391   \n",
      "...                                ...                              ...   \n",
      "581007                              17                              108   \n",
      "581008                              12                               95   \n",
      "581009                               7                               90   \n",
      "581010                               5                               90   \n",
      "581011                               4                               67   \n",
      "\n",
      "        Hillshade_9am  Hillshade_Noon  Hillshade_3pm  \\\n",
      "0                 221             232            148   \n",
      "1                 220             235            151   \n",
      "2                 234             238            135   \n",
      "3                 238             238            122   \n",
      "4                 220             234            150   \n",
      "...               ...             ...            ...   \n",
      "581007            240             237            118   \n",
      "581008            240             237            119   \n",
      "581009            236             241            130   \n",
      "581010            230             245            143   \n",
      "581011            231             244            141   \n",
      "\n",
      "        Horizontal_Distance_To_Fire_Points  ...  Soil_Type32  Soil_Type33  \\\n",
      "0                                     6279  ...            0            0   \n",
      "1                                     6225  ...            0            0   \n",
      "2                                     6121  ...            0            0   \n",
      "3                                     6211  ...            0            0   \n",
      "4                                     6172  ...            0            0   \n",
      "...                                    ...  ...          ...          ...   \n",
      "581007                                 837  ...            0            0   \n",
      "581008                                 845  ...            0            0   \n",
      "581009                                 854  ...            0            0   \n",
      "581010                                 864  ...            0            0   \n",
      "581011                                 875  ...            0            0   \n",
      "\n",
      "        Soil_Type34  Soil_Type35  Soil_Type36  Soil_Type37  Soil_Type38  \\\n",
      "0                 0            0            0            0            0   \n",
      "1                 0            0            0            0            0   \n",
      "2                 0            0            0            0            0   \n",
      "3                 0            0            0            0            0   \n",
      "4                 0            0            0            0            0   \n",
      "...             ...          ...          ...          ...          ...   \n",
      "581007            0            0            0            0            0   \n",
      "581008            0            0            0            0            0   \n",
      "581009            0            0            0            0            0   \n",
      "581010            0            0            0            0            0   \n",
      "581011            0            0            0            0            0   \n",
      "\n",
      "        Soil_Type39  Soil_Type40  Cover_Type  \n",
      "0                 0            0           5  \n",
      "1                 0            0           5  \n",
      "2                 0            0           2  \n",
      "3                 0            0           2  \n",
      "4                 0            0           5  \n",
      "...             ...          ...         ...  \n",
      "581007            0            0           3  \n",
      "581008            0            0           3  \n",
      "581009            0            0           3  \n",
      "581010            0            0           3  \n",
      "581011            0            0           3  \n",
      "\n",
      "[581012 rows x 55 columns]\n"
     ]
    }
   ],
   "source": [
    "print(data)"
   ]
  },
  {
   "cell_type": "code",
   "execution_count": 46,
   "metadata": {},
   "outputs": [],
   "source": [
    "# from sklearn.preprocessing import MinMaxScaler\n",
    "# mm_scaler = MinMaxScaler()\n",
    "# normalized_data = data\n",
    "# t = mm_scaler.fit_transform(normalized_data[['Elevation', 'Aspect', 'Horizontal_Distance_To_Hydrology', 'Slope', 'Horizontal_Distance_To_Fire_Points', 'Vertical_Distance_To_Hydrology', 'Horizontal_Distance_To_Roadways', 'Hillshade_9am', 'Hillshade_Noon', 'Hillshade_3pm', 'Horizontal_Distance_To_Fire_Points']])\n",
    "# normalized_data[['Elevation', 'Aspect', 'Slope', 'Horizontal_Distance_To_Hydrology', 'Horizontal_Distance_To_Fire_Points', 'Vertical_Distance_To_Hydrology', 'Horizontal_Distance_To_Roadways', 'Hillshade_9am', 'Hillshade_Noon', 'Hillshade_3pm', 'Horizontal_Distance_To_Fire_Points']] = t\n",
    "# # train = data[[]]"
   ]
  },
  {
   "cell_type": "code",
   "execution_count": 47,
   "metadata": {},
   "outputs": [],
   "source": [
    "# normalized_data.describe()"
   ]
  },
  {
   "cell_type": "code",
   "execution_count": 48,
   "metadata": {},
   "outputs": [],
   "source": [
    "# useless_data = ['Soil_Type7', 'Soil_Type8', 'Soil_Type14', 'Soil_Type15', 'Soil_Type21', 'Soil_Type25', 'Soil_Type28', 'Soil_Type36', 'Soil_Type37', 'Hillshade_3pm', 'Cover_Type']\n",
    "# target = normalized_data.Cover_Type\n",
    "# train = normalized_data.drop(useless_data, axis = 1)"
   ]
  },
  {
   "cell_type": "code",
   "execution_count": 49,
   "metadata": {},
   "outputs": [],
   "source": [
    "# train.info()"
   ]
  },
  {
   "cell_type": "code",
   "execution_count": 50,
   "metadata": {},
   "outputs": [],
   "source": [
    "# print(target)\n",
    "# x_train, x_test, y_train, y_test = train_test_split(train, target, test_size=0.25, random_state=16)"
   ]
  },
  {
   "cell_type": "code",
   "execution_count": 51,
   "metadata": {},
   "outputs": [],
   "source": [
    "# from sklearn.neighbors import KNeighborsClassifier\n",
    "\n",
    "# knn_neighbors = []\n",
    "# knn_results = []\n",
    "# neighbors = 5\n",
    "# # for neighbors in range(1, 51):\n",
    "# knn_neighbors.append(neighbors)\n",
    "# knn = KNeighborsClassifier(n_neighbors=neighbors)\n",
    "# start_time = time.time()\n",
    "# knn.fit(x_train, y_train)\n",
    "# print(\"KNeighborsClassifier{} train time = {} seconds\".format(neighbors, time.time() - start_time))\n",
    "\n",
    "# start_time = time.time()\n",
    "# knn_predict_result = knn.predict(x_test)\n",
    "# print(\"KNeighborsClassifier{} predict time = {} seconds\".format(neighbors, time.time() - start_time))\n",
    "\n",
    "# start_time = time.time()\n",
    "# accuracy = accuracy_score(y_test, knn_predict_result)\n",
    "# print(\"KNeighborsClassifier{} accuracy time = {} seconds\".format(neighbors, time.time() - start_time))\n",
    "# print(\"KNeighborsClassifier{} accuracy\".format(neighbors), \": \", accuracy)\n",
    "\n",
    "# knn_results.append(accuracy)"
   ]
  },
  {
   "cell_type": "code",
   "execution_count": 52,
   "metadata": {},
   "outputs": [],
   "source": [
    "# from sklearn.ensemble import ExtraTreesClassifier\n",
    "\n",
    "# extraTreesClassifier_estimators = []\n",
    "# extraTreesClassifier_results = []\n",
    "# # estimators = 260\n",
    "# estimators = 100\n",
    "# # for estimators in range(10, 301, 10):\n",
    "# trees = ExtraTreesClassifier(n_estimators = estimators, max_features=10)\n",
    "\n",
    "# start_time = time.time()\n",
    "# trees.fit(x_train, y_train)\n",
    "# print(\"ExtraTreesClassifier{} train time = {} seconds\".format(estimators, time.time() - start_time))\n",
    "\n",
    "# start_time = time.time()\n",
    "# trees_result = trees.predict(x_test)\n",
    "# print(\"ExtraTreesClassifier{} predict time = {} seconds\".format(estimators, time.time() - start_time))\n",
    "\n",
    "# start_time = time.time()\n",
    "# extraTreesClassifier_accuracy = accuracy_score(y_test, trees_result)\n",
    "# print(\"ExtraTreesClassifier{} accuracy time = {} seconds\".format(estimators, time.time() - start_time))\n",
    "# print(\"ExtraTreesClassifier{} accuracy: \\n\".format(estimators), extraTreesClassifier_accuracy)\n",
    "\n",
    "# extraTreesClassifier_results.append(extraTreesClassifier_accuracy)\n",
    "# extraTreesClassifier_estimators.append(estimators)"
   ]
  },
  {
   "cell_type": "code",
   "execution_count": 53,
   "metadata": {},
   "outputs": [],
   "source": [
    "# from sklearn.ensemble import ExtraTreesClassifier\n",
    "\n",
    "# extraTreesClassifier_estimators = []\n",
    "# extraTreesClassifier_results = []\n",
    "# # estimators = 260\n",
    "# estimators = 100\n",
    "# # for estimators in range(10, 301, 10):\n",
    "# trees = ExtraTreesClassifier(n_estimators = estimators, max_features=10)\n",
    "\n",
    "# start_time = time.time()\n",
    "# trees.fit(x_train, y_train)\n",
    "# print(\"ExtraTreesClassifier{} train time = {} seconds\".format(estimators, time.time() - start_time))\n",
    "\n",
    "# start_time = time.time()\n",
    "# trees_result = trees.predict(x_test)\n",
    "# print(\"ExtraTreesClassifier{} predict time = {} seconds\".format(estimators, time.time() - start_time))\n",
    "\n",
    "# start_time = time.time()\n",
    "# extraTreesClassifier_accuracy = accuracy_score(y_test, trees_result)\n",
    "# print(\"ExtraTreesClassifier{} accuracy time = {} seconds\".format(estimators, time.time() - start_time))\n",
    "# print(\"ExtraTreesClassifier{} accuracy: \\n\".format(estimators), extraTreesClassifier_accuracy)\n",
    "\n",
    "# extraTreesClassifier_results.append(extraTreesClassifier_accuracy)\n",
    "# extraTreesClassifier_estimators.append(estimators)"
   ]
  },
  {
   "cell_type": "code",
   "execution_count": 54,
   "metadata": {},
   "outputs": [],
   "source": [
    "# import xgboost\n",
    "\n",
    "# xgboost_model = xgboost.XGBClassifier()\n",
    "# start_time = time.time()\n",
    "# xgboost_model.fit(x_train, y_train)\n",
    "# print(\"XGBClassifier train time = {} seconds\".format(time.time() - start_time))"
   ]
  },
  {
   "cell_type": "code",
   "execution_count": 55,
   "metadata": {},
   "outputs": [],
   "source": [
    "# start_time = time.time()\n",
    "# xgboost_result = xgboost_model.predict(x_test)\n",
    "# print(\"XGBoost predict time = {} seconds\".format(time.time() - start_time))\n",
    "\n",
    "# start_time = time.time()\n",
    "# xgboost_model_accuracy = accuracy_score(y_test, xgboost_result)\n",
    "# print(\"XGBoost accuracy time = {} seconds\".format(time.time() - start_time))\n",
    "# print(\"XGBoost accuracy: \", xgboost_model_accuracy)"
   ]
  },
  {
   "cell_type": "code",
   "execution_count": 56,
   "metadata": {},
   "outputs": [],
   "source": [
    "# from sklearn.ensemble import RandomForestClassifier\n",
    "\n",
    "\n",
    "# randomForestClassifier_estimators = []\n",
    "# randomForestClassifier_results = []\n",
    "# # estimators = 100\n",
    "# for estimators in range(10, 301, 10):\n",
    "#     randomForestClassifier = RandomForestClassifier(n_estimators = estimators, max_features=10)\n",
    "#     start_time = time.time()\n",
    "#     randomForestClassifier.fit(x_train, y_train)\n",
    "#     print(\"RandomForestClassifier train time = {} seconds\".format(time.time() - start_time))\n",
    "\n",
    "#     start_time = time.time()\n",
    "#     randomForest_result = randomForestClassifier.predict(x_test)\n",
    "#     print(\"RandomForestClassifier predict time = {} seconds\".format(time.time() - start_time))\n",
    "\n",
    "#     start_time = time.time()\n",
    "#     randomForest_accuracy = accuracy_score(y_test, randomForest_result)\n",
    "#     print(\"RandomForestClassifier accuracy time = {} seconds\".format(time.time() - start_time))\n",
    "#     print(\"RandomForestClassifier accuracy: \", randomForest_accuracy)\n",
    "\n",
    "#     randomForestClassifier_estimators.append(estimators)\n",
    "#     randomForestClassifier_results.append(randomForest_accuracy)"
   ]
  },
  {
   "cell_type": "code",
   "execution_count": 57,
   "metadata": {},
   "outputs": [],
   "source": [
    "# pyplot.plot(randomForestClassifier_estimators, randomForestClassifier_results)"
   ]
  },
  {
   "cell_type": "code",
   "execution_count": 58,
   "metadata": {},
   "outputs": [],
   "source": [
    "# from sklearn.decomposition import PCA\n",
    "# X = normalized_data.drop(['Cover_Type'], axis=1)\n",
    "# pca = PCA(n_components=len(X.columns))\n",
    "# pca.fit(X)"
   ]
  },
  {
   "cell_type": "code",
   "execution_count": 59,
   "metadata": {},
   "outputs": [],
   "source": [
    "# for index, item in enumerate(pca.explained_variance_ratio_):\n",
    "#     print(normalized_data.columns[index], \" - %.4f\" % item)\n",
    "# print(sum(pca.explained_variance_ratio_[13:]))"
   ]
  },
  {
   "cell_type": "code",
   "execution_count": 60,
   "metadata": {},
   "outputs": [],
   "source": [
    "# for row in data.loc[:, 'Soil_Type1' : 'Soil_Type40']:\n",
    "#     print(row)"
   ]
  },
  {
   "cell_type": "code",
   "execution_count": 61,
   "metadata": {},
   "outputs": [],
   "source": [
    "# exist_data = data.drop(data.loc[:, 'Soil_Type1' : 'Soil_Type40'], axis = 1)\n",
    "# soil_data = data.drop(exist_data.loc[:, :], axis = 1)\n",
    "# union_soil_data = pd.Series([0 for _ in range(len(data))])\n",
    "# index = 1\n",
    "# for col in soil_data.loc[:, :]:\n",
    "#     for item in np.where(data[col].values == 1):\n",
    "#         union_soil_data[item] = index\n",
    "#     index += 1\n",
    "# print(union_soil_data)"
   ]
  },
  {
   "cell_type": "code",
   "execution_count": 62,
   "metadata": {},
   "outputs": [],
   "source": [
    "# # for index, item in enumerate(data.loc[:, 'Horizontal_Distance_To_Hydrology' : 'Vertical_Distance_To_Hydrology']):\n",
    "# #     print(index)\n",
    "\n",
    "# print(data['Horizontal_Distance_To_Hydrology'][581008])\n",
    "# print(data['Vertical_Distance_To_Hydrology'][581008])"
   ]
  },
  {
   "cell_type": "code",
   "execution_count": null,
   "metadata": {},
   "outputs": [],
   "source": []
  }
 ],
 "metadata": {
  "kernelspec": {
   "display_name": "Python 3",
   "language": "python",
   "name": "python3"
  },
  "language_info": {
   "codemirror_mode": {
    "name": "ipython",
    "version": 3
   },
   "file_extension": ".py",
   "mimetype": "text/x-python",
   "name": "python",
   "nbconvert_exporter": "python",
   "pygments_lexer": "ipython3",
   "version": "3.7.4"
  }
 },
 "nbformat": 4,
 "nbformat_minor": 4
}
